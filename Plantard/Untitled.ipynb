{
 "cells": [
  {
   "cell_type": "code",
   "execution_count": 64,
   "id": "c4727ae1-d2ad-4dde-a071-16cf821b60eb",
   "metadata": {},
   "outputs": [],
   "source": [
    "alpha = 3"
   ]
  },
  {
   "cell_type": "code",
   "execution_count": 65,
   "id": "6a7adf17-ad34-4196-a961-4e91996ee44c",
   "metadata": {},
   "outputs": [],
   "source": [
    "q = 3457\n",
    "qprime = (Integer(q^(-1) % 2^32) + 2^31 % 2^32) - 2^31"
   ]
  },
  {
   "cell_type": "code",
   "execution_count": 66,
   "id": "00ed36c9-8153-48f7-8bdf-4ef5effe5d86",
   "metadata": {},
   "outputs": [
    {
     "data": {
      "text/plain": [
       "1951806081"
      ]
     },
     "execution_count": 66,
     "metadata": {},
     "output_type": "execute_result"
    }
   ],
   "source": [
    "qprime"
   ]
  },
  {
   "cell_type": "code",
   "execution_count": 81,
   "id": "5fc75eb0-2b28-4f88-9fd1-7f2f1e5eb622",
   "metadata": {},
   "outputs": [
    {
     "data": {
      "text/plain": [
       "2147483648"
      ]
     },
     "execution_count": 81,
     "metadata": {},
     "output_type": "execute_result"
    }
   ],
   "source": [
    "2^31"
   ]
  },
  {
   "cell_type": "code",
   "execution_count": 76,
   "id": "97cf6eef-febc-4212-a68c-6f70a133aa75",
   "metadata": {},
   "outputs": [],
   "source": [
    "a = -3458\n",
    "b = 2590\n",
    "\n",
    "r = a*b*qprime & 0xffffffff\n",
    "r = (((r >> 16) + 2^alpha)*q) >> 16"
   ]
  },
  {
   "cell_type": "code",
   "execution_count": 77,
   "id": "72dd7438-6c1a-4b59-8c52-b4ce9baa412a",
   "metadata": {},
   "outputs": [
    {
     "data": {
      "text/plain": [
       "3456"
      ]
     },
     "execution_count": 77,
     "metadata": {},
     "output_type": "execute_result"
    }
   ],
   "source": [
    "r"
   ]
  },
  {
   "cell_type": "code",
   "execution_count": 78,
   "id": "46652136-fc52-46f8-b3de-97bc72efb1de",
   "metadata": {},
   "outputs": [
    {
     "data": {
      "text/plain": [
       "1571"
      ]
     },
     "execution_count": 78,
     "metadata": {},
     "output_type": "execute_result"
    }
   ],
   "source": [
    "-2^(-32) % q"
   ]
  },
  {
   "cell_type": "code",
   "execution_count": 79,
   "id": "1f47caab-7020-474b-a377-408bab5b270b",
   "metadata": {},
   "outputs": [
    {
     "data": {
      "text/plain": [
       "2590"
      ]
     },
     "execution_count": 79,
     "metadata": {},
     "output_type": "execute_result"
    }
   ],
   "source": [
    "-2^(32) % q"
   ]
  },
  {
   "cell_type": "code",
   "execution_count": 80,
   "id": "f8c1a891-00cb-4ec1-a356-fb0635dadd1f",
   "metadata": {},
   "outputs": [
    {
     "data": {
      "text/plain": [
       "4096"
      ]
     },
     "execution_count": 80,
     "metadata": {},
     "output_type": "execute_result"
    }
   ],
   "source": [
    "2^(16-3-1)"
   ]
  },
  {
   "cell_type": "code",
   "execution_count": 82,
   "id": "b59a7a79-1229-46fc-97aa-4c1ab05403b1",
   "metadata": {},
   "outputs": [
    {
     "data": {
      "text/plain": [
       "1520"
      ]
     },
     "execution_count": 82,
     "metadata": {},
     "output_type": "execute_result"
    }
   ],
   "source": [
    "2590^2 %q"
   ]
  },
  {
   "cell_type": "code",
   "execution_count": null,
   "id": "c502751c-2ced-4f2f-bf21-d7d8336a05be",
   "metadata": {},
   "outputs": [],
   "source": []
  },
  {
   "cell_type": "code",
   "execution_count": null,
   "id": "fe0da284-896a-45ad-a8a9-c0417692c94f",
   "metadata": {},
   "outputs": [],
   "source": []
  }
 ],
 "metadata": {
  "kernelspec": {
   "display_name": "SageMath 10.5",
   "language": "sage",
   "name": "sagemath-10.5"
  },
  "language_info": {
   "codemirror_mode": {
    "name": "ipython",
    "version": 3
   },
   "file_extension": ".py",
   "mimetype": "text/x-python",
   "name": "python",
   "nbconvert_exporter": "python",
   "pygments_lexer": "ipython3",
   "version": "3.12.5"
  }
 },
 "nbformat": 4,
 "nbformat_minor": 5
}
