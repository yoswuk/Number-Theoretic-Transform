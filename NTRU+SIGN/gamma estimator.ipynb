{
 "cells": [
  {
   "cell_type": "code",
   "execution_count": 100,
   "metadata": {},
   "outputs": [],
   "source": [
    "import numpy as np\n",
    "import scipy.fft as dft\n",
    "from math import sqrt, floor"
   ]
  },
  {
   "cell_type": "code",
   "execution_count": 101,
   "metadata": {},
   "outputs": [],
   "source": [
    "def gamma_estimate(N, n, tau, rate):\n",
    "\n",
    "    gammas = [];\n",
    "    max_gamma = 0;\n",
    "    max_m = n // tau;\n",
    "    r = n % tau;\n",
    "    \n",
    "    for loop in range(N):      \n",
    "        g = np.random.randint(2, size=n) - np.random.randint(2, size=n);\n",
    "        f = np.random.randint(2, size=n) - np.random.randint(2, size=n);\n",
    "        zero = np.array([0 for i in range(2*n)]);\n",
    "        \n",
    "        g = np.concatenate((g, zero),axis=0);\n",
    "        f = np.concatenate((f, zero),axis=0);\n",
    "        \n",
    "        hatg = dft.fft(g,3*n);\n",
    "        hatf = dft.fft(f,3*n);\n",
    "        \n",
    "        set_g = [];\n",
    "        set_f = [];\n",
    "        for i in range(n//2):\n",
    "            set_g.append(hatg[1+6*i]);\n",
    "            set_g.append(hatg[5+6*i]);\n",
    "            set_f.append(hatf[1+6*i]);\n",
    "            set_f.append(hatf[5+6*i]);\n",
    "        \n",
    "        sum  = [0]*n;\n",
    "        for i in range(n):\n",
    "            sum[i] = np.absolute(set_g[i])**2 + np.absolute(set_f[i])**2 \n",
    "\n",
    "        sum = np.sort(sum)[::-1]\n",
    "\n",
    "        s = 0;\n",
    "        for i in range(max_m):\n",
    "            s = s + sum[i];        \n",
    "        \n",
    "        gamma = s * tau + r * sum[max_m];\n",
    "        gammas.append(gamma);\n",
    "        if(gamma > max_gamma):\n",
    "            max_gamma = gamma;\n",
    "    gammas = np.sort(gammas)\n",
    "    gamma =  gammas[floor(N*rate)]\n",
    "    \n",
    "    \n",
    "    return [gamma, np.sqrt(gamma/n)];"
   ]
  },
  {
   "cell_type": "code",
   "execution_count": 102,
   "metadata": {},
   "outputs": [
    {
     "data": {
      "text/plain": [
       "[2274883.4978849264, 54.425066723624674]"
      ]
     },
     "execution_count": 102,
     "metadata": {},
     "output_type": "execute_result"
    }
   ],
   "source": [
    "gamma_estimate(1000, 768, 33, 0.99)"
   ]
  },
  {
   "cell_type": "code",
   "execution_count": 103,
   "metadata": {},
   "outputs": [
    {
     "data": {
      "text/plain": [
       "[6071356.885175671, 68.44478763653854]"
      ]
     },
     "execution_count": 103,
     "metadata": {},
     "output_type": "execute_result"
    }
   ],
   "source": [
    "gamma_estimate(1000, 1296, 41, 0.9)"
   ]
  }
 ],
 "metadata": {
  "kernelspec": {
   "display_name": "Python 3 (ipykernel)",
   "language": "python",
   "name": "python3"
  },
  "language_info": {
   "codemirror_mode": {
    "name": "ipython",
    "version": 3
   },
   "file_extension": ".py",
   "mimetype": "text/x-python",
   "name": "python",
   "nbconvert_exporter": "python",
   "pygments_lexer": "ipython3",
   "version": "3.10.12"
  }
 },
 "nbformat": 4,
 "nbformat_minor": 4
}
