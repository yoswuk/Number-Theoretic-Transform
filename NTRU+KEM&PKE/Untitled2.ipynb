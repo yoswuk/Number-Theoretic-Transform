{
 "cells": [
  {
   "cell_type": "code",
   "execution_count": 1,
   "id": "4c0d99c0-bf8e-4e0f-ac31-bb17efec028d",
   "metadata": {},
   "outputs": [],
   "source": [
    "def find_w_order_cyclotomic_trinomial(n,b):\n",
    "\n",
    "    return 3*n/b;"
   ]
  },
  {
   "cell_type": "code",
   "execution_count": 2,
   "id": "317265fb-39c6-4674-844b-0220248d6485",
   "metadata": {},
   "outputs": [],
   "source": [
    "def find_w_cyclotomic_trinomial(n,q,b):\n",
    "\n",
    "    w_order = find_w_order_cyclotomic_trinomial(n,b);\n",
    "    \n",
    "    k = Integer((q-1)/w_order);\n",
    "    \n",
    "    ws = [g^k for g in find_generator(q)];\n",
    "    \n",
    "    return sorted(list(set(ws)));"
   ]
  },
  {
   "cell_type": "code",
   "execution_count": 22,
   "id": "b0375274-90db-46a9-9017-a122d229725b",
   "metadata": {},
   "outputs": [],
   "source": [
    "def gen_tree(n,q,b):\n",
    "    \n",
    "    Zq = IntegerModRing(q);\n",
    "    \n",
    "    fac = factor(n/b);\n",
    "    \n",
    "    if len(fac) == 2:\n",
    "        Radix2 = fac[0][1];\n",
    "        Radix3 = fac[1][1];\n",
    "    \n",
    "    if len(fac) == 1:\n",
    "        if fac[0][0] == 2:\n",
    "            Radix2 = fac[0][1];\n",
    "            Radix3 = 0;\n",
    "\n",
    "        if fac[0][0] == 3:\n",
    "            Radix2 = 0;\n",
    "            Radix3 = fac[0][1];\n",
    "\n",
    "    level = Radix2+Radix3;\n",
    "\n",
    "    tree = zero_matrix(ZZ,level+1,n/b);\n",
    "    index = zero_matrix(ZZ,n/b,1);\n",
    "    tree[0,0] = find_w_order_cyclotomic_trinomial(n,b);\n",
    "    \n",
    "    #Radix-2 NTT with Cyclotomic Polynomial\n",
    "    tree[1,0] = tree[0,0] / 6;\n",
    "    tree[1,1] = 5*tree[0,0] / 6;\n",
    "\n",
    "    index = [tree[1,0]];\n",
    "\n",
    "    #Radix-3 NTT\n",
    "    for i in range(2):\n",
    "        tree[2,3*i  ] = tree[1,i] / 3;\n",
    "        tree[2,3*i+1] = tree[1,i] / 3 + tree[0,0]/3;\n",
    "        tree[2,3*i+2] = tree[1,i] / 3 + 2*tree[0,0]/3;\n",
    "\n",
    "        index.append(tree[2,3*i  ]);\n",
    "        index.append(tree[2,3*i  ]*2);\n",
    "            \n",
    "    #Radix-2 NTT\n",
    "    for i in range(6):\n",
    "        tree[3,2*i  ] = tree[2,i] / 2;\n",
    "        tree[3,2*i+1] = tree[2,i] / 2 + tree[0,0]/2;\n",
    "\n",
    "        index.append(tree[2,2*i]);\n",
    "\n",
    "    #Radix-3 NTT\n",
    "    for i in range(18):\n",
    "        tree[4,3*i  ] = tree[3,i] / 3;\n",
    "        tree[4,3*i+1] = tree[3,i] / 3 + tree[0,0]/3;\n",
    "        tree[4,3*i+2] = tree[3,i] / 3 + 2*tree[0,0]/3;\n",
    "\n",
    "        index.append(tree[4,3*i]);\n",
    "        index.append(tree[4,3*i]*2);\n",
    "\n",
    "    #Radix-2 NTT\n",
    "    for l in range(4,level):\n",
    "        for i in range(2*3^(Radix3)*2^(l-(Radix3+1))):\n",
    "            tree[l+1,2*i  ] = tree[l  ,  i] / 2;\n",
    "            tree[l+1,2*i+1] = tree[l  ,  i] / 2 + tree[0,0]/2;\n",
    "    \n",
    "            index.append(tree[l+1,2*i  ]);\n",
    "            \n",
    "            \n",
    "    return (tree, index);    "
   ]
  },
  {
   "cell_type": "code",
   "execution_count": 20,
   "id": "9bc885ba-6136-4984-b81a-eb13c2a0cecf",
   "metadata": {},
   "outputs": [],
   "source": [
    "(tree, index) = gen_tree(576,3457,4)"
   ]
  },
  {
   "cell_type": "code",
   "execution_count": 25,
   "id": "9984f1ed-8fea-4e6c-96ff-111059fb647d",
   "metadata": {},
   "outputs": [
    {
     "data": {
      "text/plain": [
       "228"
      ]
     },
     "execution_count": 25,
     "metadata": {},
     "output_type": "execute_result"
    }
   ],
   "source": [
    "432/2+12"
   ]
  },
  {
   "cell_type": "code",
   "execution_count": 21,
   "id": "3f431261-9813-4abb-b61e-77163ba68367",
   "metadata": {},
   "outputs": [
    {
     "name": "stdout",
     "output_type": "stream",
     "text": [
      "[432   0   0   0   0   0   0   0   0   0   0   0   0   0   0   0   0   0   0   0   0   0   0   0   0   0   0   0   0   0   0   0   0   0   0   0   0   0   0   0   0   0   0   0   0   0   0   0   0   0   0   0   0   0   0   0   0   0   0   0   0   0   0   0   0   0   0   0   0   0   0   0   0   0   0   0   0   0   0   0   0   0   0   0   0   0   0   0   0   0   0   0   0   0   0   0   0   0   0   0   0   0   0   0   0   0   0   0   0   0   0   0   0   0   0   0   0   0   0   0   0   0   0   0   0   0   0   0   0   0   0   0   0   0   0   0   0   0   0   0   0   0   0   0]\n",
      "[ 72 360   0   0   0   0   0   0   0   0   0   0   0   0   0   0   0   0   0   0   0   0   0   0   0   0   0   0   0   0   0   0   0   0   0   0   0   0   0   0   0   0   0   0   0   0   0   0   0   0   0   0   0   0   0   0   0   0   0   0   0   0   0   0   0   0   0   0   0   0   0   0   0   0   0   0   0   0   0   0   0   0   0   0   0   0   0   0   0   0   0   0   0   0   0   0   0   0   0   0   0   0   0   0   0   0   0   0   0   0   0   0   0   0   0   0   0   0   0   0   0   0   0   0   0   0   0   0   0   0   0   0   0   0   0   0   0   0   0   0   0   0   0   0]\n",
      "[ 24 168 312 120 264 408   0   0   0   0   0   0   0   0   0   0   0   0   0   0   0   0   0   0   0   0   0   0   0   0   0   0   0   0   0   0   0   0   0   0   0   0   0   0   0   0   0   0   0   0   0   0   0   0   0   0   0   0   0   0   0   0   0   0   0   0   0   0   0   0   0   0   0   0   0   0   0   0   0   0   0   0   0   0   0   0   0   0   0   0   0   0   0   0   0   0   0   0   0   0   0   0   0   0   0   0   0   0   0   0   0   0   0   0   0   0   0   0   0   0   0   0   0   0   0   0   0   0   0   0   0   0   0   0   0   0   0   0   0   0   0   0   0   0]\n",
      "[ 12 228  84 300 156 372  60 276 132 348 204 420   0   0   0   0   0   0   0   0   0   0   0   0   0   0   0   0   0   0   0   0   0   0   0   0   0   0   0   0   0   0   0   0   0   0   0   0   0   0   0   0   0   0   0   0   0   0   0   0   0   0   0   0   0   0   0   0   0   0   0   0   0   0   0   0   0   0   0   0   0   0   0   0   0   0   0   0   0   0   0   0   0   0   0   0   0   0   0   0   0   0   0   0   0   0   0   0   0   0   0   0   0   0   0   0   0   0   0   0   0   0   0   0   0   0   0   0   0   0   0   0   0   0   0   0   0   0   0   0   0   0   0   0]\n",
      "[  4 148 292  76 220 364  28 172 316 100 244 388  52 196 340 124 268 412  20 164 308  92 236 380  44 188 332 116 260 404  68 212 356 140 284 428   0 144 288   0 144 288   0 144 288   0 144 288   0 144 288   0 144 288   0   0   0   0   0   0   0   0   0   0   0   0   0   0   0   0   0   0   0   0   0   0   0   0   0   0   0   0   0   0   0   0   0   0   0   0   0   0   0   0   0   0   0   0   0   0   0   0   0   0   0   0   0   0   0   0   0   0   0   0   0   0   0   0   0   0   0   0   0   0   0   0   0   0   0   0   0   0   0   0   0   0   0   0   0   0   0   0   0   0]\n",
      "[  2 218  74 290 146 362  38 254 110 326 182 398  14 230  86 302 158 374  50 266 122 338 194 410  26 242  98 314 170 386  62 278 134 350 206 422  10 226  82 298 154 370  46 262 118 334 190 406  22 238  94 310 166 382  58 274 130 346 202 418  34 250 106 322 178 394  70 286 142 358 214 430   0   0   0   0   0   0   0   0   0   0   0   0   0   0   0   0   0   0   0   0   0   0   0   0   0   0   0   0   0   0   0   0   0   0   0   0   0   0   0   0   0   0   0   0   0   0   0   0   0   0   0   0   0   0   0   0   0   0   0   0   0   0   0   0   0   0   0   0   0   0   0   0]\n",
      "[  1 217 109 325  37 253 145 361  73 289 181 397  19 235 127 343  55 271 163 379  91 307 199 415   7 223 115 331  43 259 151 367  79 295 187 403  25 241 133 349  61 277 169 385  97 313 205 421  13 229 121 337  49 265 157 373  85 301 193 409  31 247 139 355  67 283 175 391 103 319 211 427   5 221 113 329  41 257 149 365  77 293 185 401  23 239 131 347  59 275 167 383  95 311 203 419  11 227 119 335  47 263 155 371  83 299 191 407  29 245 137 353  65 281 173 389 101 317 209 425  17 233 125 341  53 269 161 377  89 305 197 413  35 251 143 359  71 287 179 395 107 323 215 431]\n"
     ]
    }
   ],
   "source": [
    "print(tree)"
   ]
  },
  {
   "cell_type": "code",
   "execution_count": null,
   "id": "2ff20426-7c1f-409e-a911-6d038e6fd6be",
   "metadata": {},
   "outputs": [],
   "source": []
  },
  {
   "cell_type": "code",
   "execution_count": null,
   "id": "26480084-b014-4ffe-a9e4-381728ec19ba",
   "metadata": {},
   "outputs": [],
   "source": []
  }
 ],
 "metadata": {
  "kernelspec": {
   "display_name": "SageMath 10.5",
   "language": "sage",
   "name": "sagemath-10.5"
  },
  "language_info": {
   "codemirror_mode": {
    "name": "ipython",
    "version": 3
   },
   "file_extension": ".py",
   "mimetype": "text/x-python",
   "name": "python",
   "nbconvert_exporter": "python",
   "pygments_lexer": "ipython3",
   "version": "3.12.5"
  }
 },
 "nbformat": 4,
 "nbformat_minor": 5
}
