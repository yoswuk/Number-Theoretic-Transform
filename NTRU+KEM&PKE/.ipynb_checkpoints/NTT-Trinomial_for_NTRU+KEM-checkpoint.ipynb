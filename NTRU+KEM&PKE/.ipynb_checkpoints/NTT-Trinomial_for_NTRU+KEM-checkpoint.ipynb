{
 "cells": [
  {
   "cell_type": "code",
   "execution_count": 1,
   "metadata": {},
   "outputs": [],
   "source": [
    "def center(x,q):\n",
    "    if q % 1 == 0:\n",
    "        qhalf = Integer((q-1)/2)\n",
    "        \n",
    "        return ((Integer(x) + qhalf) % q) - qhalf;\n",
    "    else:\n",
    "        return 0;"
   ]
  },
  {
   "cell_type": "code",
   "execution_count": 2,
   "metadata": {},
   "outputs": [],
   "source": [
    "def find_n_cyclotomic_trinomial(lbits,hbits):\n",
    "    set = [];\n",
    "    for i in range(1,hbits+1):\n",
    "        for j in range(0,hbits+1):\n",
    "            n = 2^i*3^j;\n",
    "            \n",
    "            if n > 2^hbits or n < 2^lbits:\n",
    "                continue;\n",
    "            else:\n",
    "                set.append(n);\n",
    "    \n",
    "    set.sort();\n",
    "            \n",
    "    return set;"
   ]
  },
  {
   "cell_type": "code",
   "execution_count": 3,
   "metadata": {},
   "outputs": [],
   "source": [
    "def find_ntt_prime_cyclotomic(n,b,lbits,hbits):\n",
    "    \n",
    "    fac = factor(n);\n",
    "    \n",
    "    if len(fac) > 2 or len(fac) == 0:\n",
    "        #print(\"does not support cyclotomic trinomial\");\n",
    "        return 0;\n",
    "\n",
    "    if len(fac) == 1:\n",
    "        if fac[0][0] != 2:\n",
    "            #print(\"does not support cyclotomic trinomial\");\n",
    "            return 0;\n",
    "            \n",
    "    if len(fac) == 2:\n",
    "        if fac[0][0] != 2 or fac[1][0] != 3:\n",
    "            #print(\"does not support cyclotomic trinomial\");\n",
    "            return 0;\n",
    "        \n",
    "    if ((n % b) != 0) or (n/2 < b):\n",
    "        #print(\"please select adequete b\");\n",
    "        return 0;\n",
    "    \n",
    "    w_order = 3*n/b;\n",
    "    \n",
    "    qs =[];\n",
    "\n",
    "    k = 1;\n",
    "\n",
    "    while True:\n",
    "        q = w_order*k+1;\n",
    "\n",
    "        k += 1;\n",
    "\n",
    "        if q < 2^lbits:\n",
    "            continue;\n",
    "            \n",
    "        if q > 2^hbits:\n",
    "            break;\n",
    "\n",
    "        if q in Primes():\n",
    "            qs.append(q);\n",
    "\n",
    "    return qs;"
   ]
  },
  {
   "cell_type": "code",
   "execution_count": 4,
   "metadata": {},
   "outputs": [],
   "source": [
    "def find_generator(q):\n",
    "\n",
    "    Zq = IntegerModRing(q);\n",
    "\n",
    "    gs = range(1,q);\n",
    "\n",
    "    for x in list(factor(q-1)):\n",
    "        p = x[0];\n",
    "\n",
    "        t = [];\n",
    "\n",
    "        for g in gs:\n",
    "            if Zq(g)^((q-1)/p) != 1:\n",
    "                t.append(Zq(g));\n",
    "\n",
    "        gs = t;\n",
    "\n",
    "    return gs;"
   ]
  },
  {
   "cell_type": "code",
   "execution_count": 5,
   "metadata": {},
   "outputs": [],
   "source": [
    "def find_w_order_cyclotomic_trinomial(n,b):\n",
    "\n",
    "    return 3*n/b;"
   ]
  },
  {
   "cell_type": "code",
   "execution_count": 6,
   "metadata": {},
   "outputs": [],
   "source": [
    "def find_w_cyclotomic_trinomial(n,q,b):\n",
    "\n",
    "    w_order = find_w_order_cyclotomic_trinomial(n,b);\n",
    "    \n",
    "    k = Integer((q-1)/w_order);\n",
    "    \n",
    "    ws = [g^k for g in find_generator(q)];\n",
    "    \n",
    "    return sorted(list(set(ws)));"
   ]
  },
  {
   "cell_type": "code",
   "execution_count": 7,
   "metadata": {},
   "outputs": [],
   "source": [
    "def gen_zetas(n,q,b):\n",
    "    \n",
    "    Zq = IntegerModRing(q);\n",
    "    \n",
    "    fac = factor(n/b);\n",
    "    \n",
    "    if len(fac) == 2:\n",
    "        Radix2 = fac[0][1];\n",
    "        Radix3 = fac[1][1];\n",
    "    \n",
    "    if len(fac) == 1:\n",
    "        if fac[0][0] == 2:\n",
    "            Radix2 = fac[0][1];\n",
    "            Radix3 = 0;\n",
    "\n",
    "        if fac[0][0] == 3:\n",
    "            Radix2 = 0;\n",
    "            Radix3 = fac[0][1];\n",
    "\n",
    "    level = Radix2+Radix3;\n",
    "\n",
    "    tree = zero_matrix(ZZ,level+1,n/b);\n",
    "    tree[0,0] = find_w_order_cyclotomic_trinomial(n,b);\n",
    "\n",
    "    zetas = [center(Integer(Zq(2^16)),q)];\n",
    "                \n",
    "    #Radix-2 NTT with Cyclotomic Polynomial\n",
    "    tree[1,0] = tree[0,0] / 6;\n",
    "    tree[1,1] = 5*tree[0,0] / 6;\n",
    "\n",
    "    x = Integer(Zq(w)^(tree[1,0]) * 2^16);\n",
    "    x = center(x, q);\n",
    "    zetas.append(x);\n",
    "    \n",
    "    #Radix-3 NTT\n",
    "    for l in range(1,Radix3+1):\n",
    "        for i in range(2*3^(l-1)):\n",
    "            tree[l+1,3*i  ] = tree[l  ,  i] / 3;\n",
    "            tree[l+1,3*i+1] = tree[l  ,  i] / 3 + tree[0,0]/3;\n",
    "            tree[l+1,3*i+2] = tree[l  ,  i] / 3 + 2*tree[0,0]/3;\n",
    "\n",
    "            x = center(Zq(w)^(tree[l+1,3*i]) * 2^16, q);\n",
    "            zetas.append(x);\n",
    "            x = center(Zq(w)^(tree[l+1,3*i]*2) * 2^16, q);\n",
    "            zetas.append(x);\n",
    "\n",
    "    #Radix-2 NTT\n",
    "    for l in range(Radix3+1,level):\n",
    "        for i in range(2*3^(Radix3)*2^(l-(Radix3+1))):\n",
    "            tree[l+1,2*i  ] = tree[l  ,  i] / 2;\n",
    "            tree[l+1,2*i+1] = tree[l  ,  i] / 2 + tree[0,0]/2;\n",
    "\n",
    "            x = center(Zq(w)^(tree[l+1,2*i]) * 2^16, q);\n",
    "            zetas.append(x);\n",
    "            \n",
    "    print(tree)\n",
    "    return zetas;    "
   ]
  },
  {
   "cell_type": "code",
   "execution_count": 8,
   "metadata": {},
   "outputs": [],
   "source": [
    "def print_zetas(zetas):\n",
    "    \n",
    "    l = len(zetas)\n",
    "    str1 = \"const int16_t zetas[%d] = {\" % l\n",
    "    print(str1)\n",
    "    for i in range(ceil(l/8)-1):\n",
    "        str = \"\\t\";\n",
    "        for j in range(7):\n",
    "            str += \"%5d, \" %zetas[8*i+j];\n",
    "        str += \"%5d,\" %zetas[8*i+7];\n",
    "        print(str);\n",
    "\n",
    "    str = \"\\t\";\n",
    "    for j in range((l%8-1)%8):\n",
    "        str += \"%5d, \" %zetas[8*ceil(l/8)-8+j];\n",
    "    str += \"%5d\" %zetas[l-1];  \n",
    "    print(str);    \n",
    "    print(\"};\");"
   ]
  },
  {
   "cell_type": "code",
   "execution_count": 9,
   "metadata": {},
   "outputs": [],
   "source": [
    "def print_params(n,q,d,w):\n",
    "    \n",
    "    zetas = gen_zetas(n,q,b);\n",
    "    print_zetas(zetas);\n",
    "\n",
    "    Zq = IntegerModRing(q);\n",
    "\n",
    "    print(\"====ntt====\");\n",
    "    print(\"w %d\" %center(Integer(Zq(w)^(find_w_order_cyclotomic_trinomial(n,b)/3)*2^16),q));\n",
    "\n",
    "    print(\"====invntt====\");\n",
    "    print(\"w %d\" %center(Integer(Zq(w)^(find_w_order_cyclotomic_trinomial(n,b)/3)*2^16),q));\n",
    "    z = Zq(w)^(find_w_order_cyclotomic_trinomial(n,b)/6);\n",
    "    print(\"(z - z^5)^-1 %d\" %center(Integer(Zq(2^16) * Zq(z - z^5)^-1),q))\n",
    "    print(\"2^-1 %d\" %center(Integer(Zq(2^-1 *2^16)),q))\n",
    "    \n",
    "    \n",
    "    fac = factor(n/b);\n",
    "    \n",
    "    if len(fac) == 2:\n",
    "        Radix2 = fac[0][1];\n",
    "        Radix3 = fac[1][1];\n",
    "    \n",
    "    if len(fac) == 1:\n",
    "        if fac[0][0] == 2:\n",
    "            Radix2 = fac[0][1];\n",
    "            Radix3 = 0;\n",
    "\n",
    "        if fac[0][0] == 3:\n",
    "            Radix2 = 0;\n",
    "            Radix3 = fac[0][1];\n",
    "\n",
    "    print(\"level1 %d\" %center(Integer(Zq(2^31*2^(-Radix2+1)*3^(-Radix3))),q))\n",
    "    print(\"level2 %d\" %center(Integer(Zq(2^32*2^(-Radix2+1)*3^(-Radix3))),q))\n",
    "    print(\"====reduce.h====\");    \n",
    "    print(\"QINV : %d\" %(q^-1 % 2^16))\n",
    "\n"
   ]
  },
  {
   "cell_type": "code",
   "execution_count": 10,
   "metadata": {},
   "outputs": [],
   "source": [
    "n_set = find_n_cyclotomic_trinomial(9,11);\n",
    "b_set = [1,2,3,4,6];"
   ]
  },
  {
   "cell_type": "code",
   "execution_count": 11,
   "metadata": {},
   "outputs": [
    {
     "name": "stdout",
     "output_type": "stream",
     "text": [
      "n :  512\n",
      "b :  1 , qs :  [7681, 10753, 12289, 15361, 18433, 23041, 26113, 32257]\n",
      "b :  2 , qs :  [769, 7681, 10753, 12289, 14593, 15361, 18433, 22273, 23041, 26113, 26881, 31489, 32257]\n",
      "b :  4 , qs :  [769, 1153, 2689, 3457, 4993, 6529, 7297, 7681, 9601, 10369, 10753, 12289, 13441, 14593, 15361, 18049, 18433, 20353, 21121, 22273, 23041, 26113, 26497, 26881, 29569, 31489, 31873, 32257]\n",
      "\n",
      "n :  576\n",
      "b :  1 , qs :  [3457, 8641, 10369, 12097, 19009]\n",
      "b :  2 , qs :  [2593, 3457, 8641, 10369, 12097, 16417, 19009, 21601, 25057, 28513, 30241]\n",
      "b :  3 , qs :  [577, 1153, 3457, 6337, 7489, 8641, 10369, 12097, 13249, 14401, 18433, 19009, 20161, 21313, 23041, 26497, 27073, 30529, 32257]\n",
      "b :  4 , qs :  [433, 1297, 2161, 2593, 3457, 3889, 6481, 8209, 8641, 10369, 12097, 15121, 16417, 17713, 19009, 19441, 21169, 21601, 23761, 25057, 28081, 28513, 30241, 32401]\n",
      "b :  6 , qs :  [577, 1153, 2017, 2593, 3169, 3457, 6337, 7489, 8353, 8641, 8929, 10369, 10657, 12097, 13249, 13537, 14401, 16417, 16993, 17569, 18433, 19009, 20161, 21313, 21601, 23041, 24481, 25057, 25633, 26209, 26497, 27073, 27361, 28513, 30241, 30529, 30817, 31393, 32257]\n",
      "\n",
      "n :  648\n",
      "b :  1 , qs :  [3889, 9721, 17497, 19441]\n",
      "b :  2 , qs :  [2917, 3889, 4861, 9721, 12637, 17497, 19441, 30133, 32077]\n",
      "b :  3 , qs :  [1297, 2593, 3889, 6481, 7129, 9721, 10369, 17497, 18793, 19441, 20089, 23977, 28513, 32401]\n",
      "b :  4 , qs :  [487, 1459, 2917, 3889, 4861, 5347, 8263, 9721, 12637, 17011, 17497, 19441, 19927, 20899, 21871, 25759, 26731, 30133, 32077, 32563]\n",
      "b :  6 , qs :  [1297, 1621, 2269, 2593, 2917, 3889, 4861, 6481, 7129, 8101, 9397, 9721, 10369, 12637, 13933, 15877, 17497, 18793, 19441, 20089, 21061, 23977, 26893, 27541, 28513, 28837, 30133, 30781, 32077, 32401]\n",
      "\n",
      "n :  768\n",
      "b :  1 , qs :  [18433, 23041, 32257]\n",
      "b :  2 , qs :  [1153, 3457, 10369, 18433, 23041, 26497, 32257]\n",
      "b :  3 , qs :  [769, 7681, 10753, 12289, 14593, 15361, 18433, 22273, 23041, 26113, 26881, 31489, 32257]\n",
      "b :  4 , qs :  [577, 1153, 3457, 6337, 7489, 8641, 10369, 12097, 13249, 14401, 18433, 19009, 20161, 21313, 23041, 26497, 27073, 30529, 32257]\n",
      "b :  6 , qs :  [769, 1153, 2689, 3457, 4993, 6529, 7297, 7681, 9601, 10369, 10753, 12289, 13441, 14593, 15361, 18049, 18433, 20353, 21121, 22273, 23041, 26113, 26497, 26881, 29569, 31489, 31873, 32257]\n",
      "\n",
      "n :  864\n",
      "b :  1 , qs :  [2593, 10369, 28513]\n",
      "b :  2 , qs :  [1297, 2593, 3889, 6481, 10369, 19441, 28513, 32401]\n",
      "b :  3 , qs :  [2593, 3457, 8641, 10369, 12097, 16417, 19009, 21601, 25057, 28513, 30241]\n",
      "b :  4 , qs :  [1297, 2593, 3889, 6481, 7129, 9721, 10369, 17497, 18793, 19441, 20089, 23977, 28513, 32401]\n",
      "b :  6 , qs :  [433, 1297, 2161, 2593, 3457, 3889, 6481, 8209, 8641, 10369, 12097, 15121, 16417, 17713, 19009, 19441, 21169, 21601, 23761, 25057, 28081, 28513, 30241, 32401]\n",
      "\n",
      "n :  972\n",
      "b :  1 , qs :  [2917, 17497, 32077]\n",
      "b :  2 , qs :  [1459, 2917, 17497, 21871, 32077]\n",
      "b :  3 , qs :  [2917, 3889, 4861, 9721, 12637, 17497, 19441, 30133, 32077]\n",
      "b :  4 , qs :  [1459, 2917, 17497, 21871, 32077]\n",
      "b :  6 , qs :  [487, 1459, 2917, 3889, 4861, 5347, 8263, 9721, 12637, 17011, 17497, 19441, 19927, 20899, 21871, 25759, 26731, 30133, 32077, 32563]\n",
      "\n",
      "n :  1024\n",
      "b :  1 , qs :  [12289, 15361, 18433]\n",
      "b :  2 , qs :  [7681, 10753, 12289, 15361, 18433, 23041, 26113, 32257]\n",
      "b :  4 , qs :  [769, 7681, 10753, 12289, 14593, 15361, 18433, 22273, 23041, 26113, 26881, 31489, 32257]\n",
      "\n",
      "n :  1152\n",
      "b :  1 , qs :  [3457, 10369]\n",
      "b :  2 , qs :  [3457, 8641, 10369, 12097, 19009]\n",
      "b :  3 , qs :  [1153, 3457, 10369, 18433, 23041, 26497, 32257]\n",
      "b :  4 , qs :  [2593, 3457, 8641, 10369, 12097, 16417, 19009, 21601, 25057, 28513, 30241]\n",
      "b :  6 , qs :  [577, 1153, 3457, 6337, 7489, 8641, 10369, 12097, 13249, 14401, 18433, 19009, 20161, 21313, 23041, 26497, 27073, 30529, 32257]\n",
      "\n",
      "n :  1296\n",
      "b :  1 , qs :  [3889, 19441]\n",
      "b :  2 , qs :  [3889, 9721, 17497, 19441]\n",
      "b :  3 , qs :  [1297, 2593, 3889, 6481, 10369, 19441, 28513, 32401]\n",
      "b :  4 , qs :  [2917, 3889, 4861, 9721, 12637, 17497, 19441, 30133, 32077]\n",
      "b :  6 , qs :  [1297, 2593, 3889, 6481, 7129, 9721, 10369, 17497, 18793, 19441, 20089, 23977, 28513, 32401]\n",
      "\n",
      "n :  1458\n",
      "b :  1 , qs :  [17497, 21871]\n",
      "b :  2 , qs :  [17497, 21871]\n",
      "b :  3 , qs :  [1459, 2917, 17497, 21871, 32077]\n",
      "b :  6 , qs :  [1459, 2917, 17497, 21871, 32077]\n",
      "\n",
      "n :  1536\n",
      "b :  1 , qs :  [18433, 23041, 32257]\n",
      "b :  2 , qs :  [18433, 23041, 32257]\n",
      "b :  3 , qs :  [7681, 10753, 12289, 15361, 18433, 23041, 26113, 32257]\n",
      "b :  4 , qs :  [1153, 3457, 10369, 18433, 23041, 26497, 32257]\n",
      "b :  6 , qs :  [769, 7681, 10753, 12289, 14593, 15361, 18433, 22273, 23041, 26113, 26881, 31489, 32257]\n",
      "\n",
      "n :  1728\n",
      "b :  1 , qs :  [10369]\n",
      "b :  2 , qs :  [2593, 10369, 28513]\n",
      "b :  3 , qs :  [3457, 8641, 10369, 12097, 19009]\n",
      "b :  4 , qs :  [1297, 2593, 3889, 6481, 10369, 19441, 28513, 32401]\n",
      "b :  6 , qs :  [2593, 3457, 8641, 10369, 12097, 16417, 19009, 21601, 25057, 28513, 30241]\n",
      "\n",
      "n :  1944\n",
      "b :  1 , qs :  [17497]\n",
      "b :  2 , qs :  [2917, 17497, 32077]\n",
      "b :  3 , qs :  [3889, 9721, 17497, 19441]\n",
      "b :  4 , qs :  [1459, 2917, 17497, 21871, 32077]\n",
      "b :  6 , qs :  [2917, 3889, 4861, 9721, 12637, 17497, 19441, 30133, 32077]\n",
      "\n",
      "n :  2048\n",
      "b :  1 , qs :  [12289, 18433]\n",
      "b :  2 , qs :  [12289, 15361, 18433]\n",
      "b :  4 , qs :  [7681, 10753, 12289, 15361, 18433, 23041, 26113, 32257]\n",
      "\n"
     ]
    }
   ],
   "source": [
    "for n in n_set:\n",
    "    print(\"n : \", n);\n",
    "    for b in b_set:\n",
    "        qs = find_ntt_prime_cyclotomic(n,b,0,15);\n",
    "        if qs != 0:\n",
    "            print(\"b : \", b, \", qs : \", qs);\n",
    "    print(\"\");"
   ]
  },
  {
   "cell_type": "code",
   "execution_count": 12,
   "metadata": {},
   "outputs": [],
   "source": [
    "n = 576\n",
    "q = 3457\n",
    "b = 4"
   ]
  },
  {
   "cell_type": "code",
   "execution_count": 13,
   "metadata": {},
   "outputs": [],
   "source": [
    "ws = find_w_cyclotomic_trinomial(n,q,b);"
   ]
  },
  {
   "cell_type": "code",
   "execution_count": 14,
   "metadata": {},
   "outputs": [
    {
     "data": {
      "text/plain": [
       "432"
      ]
     },
     "execution_count": 14,
     "metadata": {},
     "output_type": "execute_result"
    }
   ],
   "source": [
    "find_w_order_cyclotomic_trinomial(n,b)"
   ]
  },
  {
   "cell_type": "code",
   "execution_count": 15,
   "metadata": {},
   "outputs": [],
   "source": [
    "w = min(ws)"
   ]
  },
  {
   "cell_type": "code",
   "execution_count": 16,
   "metadata": {},
   "outputs": [
    {
     "name": "stdout",
     "output_type": "stream",
     "text": [
      "[432   0   0   0   0   0   0   0   0   0   0   0   0   0   0   0   0   0   0   0   0   0   0   0   0   0   0   0   0   0   0   0   0   0   0   0   0   0   0   0   0   0   0   0   0   0   0   0   0   0   0   0   0   0   0   0   0   0   0   0   0   0   0   0   0   0   0   0   0   0   0   0   0   0   0   0   0   0   0   0   0   0   0   0   0   0   0   0   0   0   0   0   0   0   0   0   0   0   0   0   0   0   0   0   0   0   0   0   0   0   0   0   0   0   0   0   0   0   0   0   0   0   0   0   0   0   0   0   0   0   0   0   0   0   0   0   0   0   0   0   0   0   0   0]\n",
      "[ 72 360   0   0   0   0   0   0   0   0   0   0   0   0   0   0   0   0   0   0   0   0   0   0   0   0   0   0   0   0   0   0   0   0   0   0   0   0   0   0   0   0   0   0   0   0   0   0   0   0   0   0   0   0   0   0   0   0   0   0   0   0   0   0   0   0   0   0   0   0   0   0   0   0   0   0   0   0   0   0   0   0   0   0   0   0   0   0   0   0   0   0   0   0   0   0   0   0   0   0   0   0   0   0   0   0   0   0   0   0   0   0   0   0   0   0   0   0   0   0   0   0   0   0   0   0   0   0   0   0   0   0   0   0   0   0   0   0   0   0   0   0   0   0]\n",
      "[ 24 168 312 120 264 408   0   0   0   0   0   0   0   0   0   0   0   0   0   0   0   0   0   0   0   0   0   0   0   0   0   0   0   0   0   0   0   0   0   0   0   0   0   0   0   0   0   0   0   0   0   0   0   0   0   0   0   0   0   0   0   0   0   0   0   0   0   0   0   0   0   0   0   0   0   0   0   0   0   0   0   0   0   0   0   0   0   0   0   0   0   0   0   0   0   0   0   0   0   0   0   0   0   0   0   0   0   0   0   0   0   0   0   0   0   0   0   0   0   0   0   0   0   0   0   0   0   0   0   0   0   0   0   0   0   0   0   0   0   0   0   0   0   0]\n",
      "[  8 152 296  56 200 344 104 248 392  40 184 328  88 232 376 136 280 424   0   0   0   0   0   0   0   0   0   0   0   0   0   0   0   0   0   0   0   0   0   0   0   0   0   0   0   0   0   0   0   0   0   0   0   0   0   0   0   0   0   0   0   0   0   0   0   0   0   0   0   0   0   0   0   0   0   0   0   0   0   0   0   0   0   0   0   0   0   0   0   0   0   0   0   0   0   0   0   0   0   0   0   0   0   0   0   0   0   0   0   0   0   0   0   0   0   0   0   0   0   0   0   0   0   0   0   0   0   0   0   0   0   0   0   0   0   0   0   0   0   0   0   0   0   0]\n",
      "[  4 220  76 292 148 364  28 244 100 316 172 388  52 268 124 340 196 412  20 236  92 308 164 380  44 260 116 332 188 404  68 284 140 356 212 428   0   0   0   0   0   0   0   0   0   0   0   0   0   0   0   0   0   0   0   0   0   0   0   0   0   0   0   0   0   0   0   0   0   0   0   0   0   0   0   0   0   0   0   0   0   0   0   0   0   0   0   0   0   0   0   0   0   0   0   0   0   0   0   0   0   0   0   0   0   0   0   0   0   0   0   0   0   0   0   0   0   0   0   0   0   0   0   0   0   0   0   0   0   0   0   0   0   0   0   0   0   0   0   0   0   0   0   0]\n",
      "[  2 218 110 326  38 254 146 362  74 290 182 398  14 230 122 338  50 266 158 374  86 302 194 410  26 242 134 350  62 278 170 386  98 314 206 422  10 226 118 334  46 262 154 370  82 298 190 406  22 238 130 346  58 274 166 382  94 310 202 418  34 250 142 358  70 286 178 394 106 322 214 430   0   0   0   0   0   0   0   0   0   0   0   0   0   0   0   0   0   0   0   0   0   0   0   0   0   0   0   0   0   0   0   0   0   0   0   0   0   0   0   0   0   0   0   0   0   0   0   0   0   0   0   0   0   0   0   0   0   0   0   0   0   0   0   0   0   0   0   0   0   0   0   0]\n",
      "[  1 217 109 325  55 271 163 379  19 235 127 343  73 289 181 397  37 253 145 361  91 307 199 415   7 223 115 331  61 277 169 385  25 241 133 349  79 295 187 403  43 259 151 367  97 313 205 421  13 229 121 337  67 283 175 391  31 247 139 355  85 301 193 409  49 265 157 373 103 319 211 427   5 221 113 329  59 275 167 383  23 239 131 347  77 293 185 401  41 257 149 365  95 311 203 419  11 227 119 335  65 281 173 389  29 245 137 353  83 299 191 407  47 263 155 371 101 317 209 425  17 233 125 341  71 287 179 395  35 251 143 359  89 305 197 413  53 269 161 377 107 323 215 431]\n",
      "const int16_t zetas[144] = {\n",
      "\t -147, -1033,  -682,  -248,  -708,   682, -1155,  1296,\n",
      "\t -467,   727,  -976,  -107,   157,   773,  1135,  -556,\n",
      "\t-1307,   467,  -377,  -909,  -532,  1120,   298,  -822,\n",
      "\t   93, -1463, -1556,  -486, -1722, -1236,  -491, -1569,\n",
      "\t-1078,   450,    58,  -392,  1622,  -652, -1244,  -783,\n",
      "\t  839,   592,    36, -1289,  1443,  1628,  1664,   725,\n",
      "\t -353,  1020,  1119,  -599,  -952,   -99,   -96, -1172,\n",
      "\t -391,   268,   172,  -781,  -211,   737,   473,   445,\n",
      "\t  234,   264, -1292, -1369, -1085,   726,  -566,  -284,\n",
      "\t -882, -1261,  -654,  -206,   -81, -1421,   716,  1251,\n",
      "\t  945,  1598,  -287,  -767,  1536,  1467, -1542,  -676,\n",
      "\t -635,   170,   705, -1332,  -658,  -831, -1311,  1712,\n",
      "\t    6,  -791,    75, -1245,   -70,  1162,  -875,   697,\n",
      "\t-1488,  -881, -1315,  1087,  1195,   905,  -619,  -787,\n",
      "\t-1266,   965,  1460,   -37,   942,   265,  1404,  1584,\n",
      "\t -576,  -118,  -286, -1475,  -194,  -928,  1032, -1229,\n",
      "\t 1111,  1608, -1669,  -642,   862,  1593,   404,   899,\n",
      "\t -838, -1300,  -104,  1035,   558,  -966,    61, -1704\n",
      "};\n",
      "====ntt====\n",
      "w -886\n",
      "====invntt====\n",
      "w -886\n",
      "(z - z^5)^-1 -1665\n",
      "2^-1 1655\n",
      "level1 -66\n",
      "level2 -132\n",
      "====reduce.h====\n",
      "QINV : 12929\n"
     ]
    }
   ],
   "source": [
    "print_params(n,q,b,w)"
   ]
  },
  {
   "cell_type": "code",
   "execution_count": 17,
   "metadata": {},
   "outputs": [
    {
     "data": {
      "text/plain": [
       "-682"
      ]
     },
     "execution_count": 17,
     "metadata": {},
     "output_type": "execute_result"
    }
   ],
   "source": [
    "Zq = IntegerModRing(q)\n",
    "center(Integer(Zq(867)^-1*(2^16)),q)"
   ]
  },
  {
   "cell_type": "code",
   "execution_count": null,
   "metadata": {},
   "outputs": [],
   "source": []
  },
  {
   "cell_type": "code",
   "execution_count": null,
   "metadata": {},
   "outputs": [],
   "source": []
  },
  {
   "cell_type": "code",
   "execution_count": null,
   "metadata": {},
   "outputs": [],
   "source": []
  },
  {
   "cell_type": "code",
   "execution_count": null,
   "metadata": {},
   "outputs": [],
   "source": []
  },
  {
   "cell_type": "code",
   "execution_count": null,
   "metadata": {},
   "outputs": [],
   "source": []
  }
 ],
 "metadata": {
  "kernelspec": {
   "display_name": "SageMath 9.5",
   "language": "sage",
   "name": "sagemath"
  },
  "language_info": {
   "codemirror_mode": {
    "name": "ipython",
    "version": 3
   },
   "file_extension": ".py",
   "mimetype": "text/x-python",
   "name": "python",
   "nbconvert_exporter": "python",
   "pygments_lexer": "ipython3",
   "version": "3.10.12"
  }
 },
 "nbformat": 4,
 "nbformat_minor": 4
}
