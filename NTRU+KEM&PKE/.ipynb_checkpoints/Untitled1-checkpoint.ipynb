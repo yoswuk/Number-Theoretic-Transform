{
 "cells": [
  {
   "cell_type": "code",
   "execution_count": 5,
   "id": "68d43aef-f4cb-4dc5-8286-55b40d3a41ab",
   "metadata": {},
   "outputs": [],
   "source": [
    "def find_w_order_cyclotomic_trinomial(n,b):\n",
    "\n",
    "    return 3*n/b;"
   ]
  },
  {
   "cell_type": "code",
   "execution_count": 6,
   "id": "48fbd701-5c74-4dcf-977f-8c0ddf8f0812",
   "metadata": {},
   "outputs": [],
   "source": [
    "def find_w_cyclotomic_trinomial(n,q,b):\n",
    "\n",
    "    w_order = find_w_order_cyclotomic_trinomial(n,b);\n",
    "    \n",
    "    k = Integer((q-1)/w_order);\n",
    "    \n",
    "    ws = [g^k for g in find_generator(q)];\n",
    "    \n",
    "    return sorted(list(set(ws)));"
   ]
  },
  {
   "cell_type": "code",
   "execution_count": 30,
   "id": "d9e4c446-36d8-4256-a1ee-4e20f2d7f7db",
   "metadata": {},
   "outputs": [],
   "source": [
    "def gen_tree(n,q,b):\n",
    "    \n",
    "    Zq = IntegerModRing(q);\n",
    "    \n",
    "    fac = factor(n/b);\n",
    "    \n",
    "    if len(fac) == 2:\n",
    "        Radix2 = fac[0][1];\n",
    "        Radix3 = fac[1][1];\n",
    "    \n",
    "    if len(fac) == 1:\n",
    "        if fac[0][0] == 2:\n",
    "            Radix2 = fac[0][1];\n",
    "            Radix3 = 0;\n",
    "\n",
    "        if fac[0][0] == 3:\n",
    "            Radix2 = 0;\n",
    "            Radix3 = fac[0][1];\n",
    "\n",
    "    level = Radix2+Radix3;\n",
    "\n",
    "    tree = zero_matrix(ZZ,level+1,n/b);\n",
    "    index = zero_matrix(ZZ,n/b,1);\n",
    "    tree[0,0] = find_w_order_cyclotomic_trinomial(n,b);\n",
    "    \n",
    "    #Radix-2 NTT with Cyclotomic Polynomial\n",
    "    tree[1,0] = tree[0,0] / 6;\n",
    "    tree[1,1] = 5*tree[0,0] / 6;\n",
    "\n",
    "    index = [tree[1,0]];\n",
    "\n",
    "    #Radix-3 NTT\n",
    "    for l in range(1,Radix3+1):\n",
    "        for i in range(2*3^(l-1)):\n",
    "            tree[l+1,3*i  ] = tree[l  ,  i] / 3;\n",
    "            tree[l+1,3*i+1] = tree[l  ,  i] / 3 + tree[0,0]/3;\n",
    "            tree[l+1,3*i+2] = tree[l  ,  i] / 3 + 2*tree[0,0]/3;\n",
    "\n",
    "            index.append(tree[l+1,3*i  ]);\n",
    "            index.append(tree[l+1,3*i  ]*2);\n",
    "            \n",
    "    #Radix-2 NTT\n",
    "    for l in range(Radix3+1,level):\n",
    "        for i in range(2*3^(Radix3)*2^(l-(Radix3+1))):\n",
    "            tree[l+1,2*i  ] = tree[l  ,  i] / 2;\n",
    "            tree[l+1,2*i+1] = tree[l  ,  i] / 2 + tree[0,0]/2;\n",
    "\n",
    "            index.append(tree[l+1,2*i  ]);\n",
    "            \n",
    "    return (tree, index);    "
   ]
  },
  {
   "cell_type": "code",
   "execution_count": 31,
   "id": "7fe6a9ca-7290-45ca-89be-08e991545f2e",
   "metadata": {},
   "outputs": [],
   "source": [
    "def find_generator(q):\n",
    "\n",
    "    Zq = IntegerModRing(q);\n",
    "\n",
    "    gs = range(1,q);\n",
    "\n",
    "    for x in list(factor(q-1)):\n",
    "        p = x[0];\n",
    "\n",
    "        t = [];\n",
    "\n",
    "        for g in gs:\n",
    "            if Zq(g)^((q-1)/p) != 1:\n",
    "                t.append(Zq(g));\n",
    "\n",
    "        gs = t;\n",
    "\n",
    "    return gs;"
   ]
  },
  {
   "cell_type": "code",
   "execution_count": 32,
   "id": "9fabf591-78cb-469c-8efa-353797e5d32b",
   "metadata": {},
   "outputs": [],
   "source": [
    "n = 576\n",
    "q = 3457\n",
    "b = 4"
   ]
  },
  {
   "cell_type": "code",
   "execution_count": 33,
   "id": "2b99f585-525f-43df-bf65-fe1e9a22e60b",
   "metadata": {},
   "outputs": [],
   "source": [
    "(tree, index) = gen_tree(n,q,b)"
   ]
  },
  {
   "cell_type": "code",
   "execution_count": 42,
   "id": "006da627-9b77-47b4-8c3d-58bf9dba0464",
   "metadata": {},
   "outputs": [],
   "source": [
    "index_plantard = [];\n",
    "\n",
    "#radix-2 for cyclotomic trinomial\n",
    "index_plantard.append(index[0]);\n",
    "#radix-3\n",
    "index_plantard.append(index[1]);\n",
    "index_plantard.append(index[2]);\n",
    "index_plantard.append(index[3]);\n",
    "index_plantard.append(index[4]);\n",
    "\n",
    "for i in range(6):\n",
    "    #radix-3\n",
    "    index_plantard.append(index[5+2*i]);\n",
    "    index_plantard.append(index[6+2*i]);\n",
    "    #radix-2\n",
    "    index_plantard.append(index[17+3*i]);\n",
    "    index_plantard.append(index[18+3*i]);\n",
    "    index_plantard.append(index[19+3*i]);\n",
    "    #radix-2\n",
    "    index_plantard.append(index[17+3*i]);\n",
    "    index_plantard.append(index[18+3*i]);\n",
    "    index_plantard.append(index[19+3*i]);\n",
    "    index_plantard.append(index[17+3*i]);\n",
    "    index_plantard.append(index[18+3*i]);\n",
    "    index_plantard.append(index[19+3*i]);\n",
    "\n",
    "for i in range(36):\n",
    "    index_plantard.append(index[35+i]);\n",
    "    index_plantard.append(index[71+2*i]);\n",
    "    index_plantard.append(index[72+2*i]);"
   ]
  },
  {
   "cell_type": "code",
   "execution_count": 43,
   "id": "516283f9-b351-4fcc-96b7-0e6373ca36e0",
   "metadata": {},
   "outputs": [
    {
     "data": {
      "text/plain": [
       "[72,\n",
       " 24,\n",
       " 48,\n",
       " 120,\n",
       " 240,\n",
       " 8,\n",
       " 16,\n",
       " 4,\n",
       " 76,\n",
       " 148,\n",
       " 56,\n",
       " 112,\n",
       " 28,\n",
       " 100,\n",
       " 172,\n",
       " 104,\n",
       " 208,\n",
       " 52,\n",
       " 124,\n",
       " 196,\n",
       " 40,\n",
       " 80,\n",
       " 20,\n",
       " 92,\n",
       " 164,\n",
       " 88,\n",
       " 176,\n",
       " 44,\n",
       " 116,\n",
       " 188,\n",
       " 136,\n",
       " 272,\n",
       " 68,\n",
       " 140,\n",
       " 212,\n",
       " 2,\n",
       " 1,\n",
       " 109,\n",
       " 110,\n",
       " 55,\n",
       " 163,\n",
       " 38,\n",
       " 19,\n",
       " 127,\n",
       " 146,\n",
       " 73,\n",
       " 181,\n",
       " 74,\n",
       " 37,\n",
       " 145,\n",
       " 182,\n",
       " 91,\n",
       " 199,\n",
       " 14,\n",
       " 7,\n",
       " 115,\n",
       " 122,\n",
       " 61,\n",
       " 169,\n",
       " 50,\n",
       " 25,\n",
       " 133,\n",
       " 158,\n",
       " 79,\n",
       " 187,\n",
       " 86,\n",
       " 43,\n",
       " 151,\n",
       " 194,\n",
       " 97,\n",
       " 205,\n",
       " 26,\n",
       " 13,\n",
       " 121,\n",
       " 134,\n",
       " 67,\n",
       " 175,\n",
       " 62,\n",
       " 31,\n",
       " 139,\n",
       " 170,\n",
       " 85,\n",
       " 193,\n",
       " 98,\n",
       " 49,\n",
       " 157,\n",
       " 206,\n",
       " 103,\n",
       " 211,\n",
       " 10,\n",
       " 5,\n",
       " 113,\n",
       " 118,\n",
       " 59,\n",
       " 167,\n",
       " 46,\n",
       " 23,\n",
       " 131,\n",
       " 154,\n",
       " 77,\n",
       " 185,\n",
       " 82,\n",
       " 41,\n",
       " 149,\n",
       " 190,\n",
       " 95,\n",
       " 203,\n",
       " 22,\n",
       " 11,\n",
       " 119,\n",
       " 130,\n",
       " 65,\n",
       " 173,\n",
       " 58,\n",
       " 29,\n",
       " 137,\n",
       " 166,\n",
       " 83,\n",
       " 191,\n",
       " 94,\n",
       " 47,\n",
       " 155,\n",
       " 202,\n",
       " 101,\n",
       " 209,\n",
       " 34,\n",
       " 17,\n",
       " 125,\n",
       " 142,\n",
       " 71,\n",
       " 179,\n",
       " 70,\n",
       " 35,\n",
       " 143,\n",
       " 178,\n",
       " 89,\n",
       " 197,\n",
       " 106,\n",
       " 53,\n",
       " 161,\n",
       " 214,\n",
       " 107,\n",
       " 215]"
      ]
     },
     "execution_count": 43,
     "metadata": {},
     "output_type": "execute_result"
    }
   ],
   "source": [
    "index_plantard"
   ]
  },
  {
   "cell_type": "code",
   "execution_count": 44,
   "id": "b7a8368a-0449-4efe-9c80-020bf5377885",
   "metadata": {},
   "outputs": [
    {
     "data": {
      "text/plain": [
       "143"
      ]
     },
     "execution_count": 44,
     "metadata": {},
     "output_type": "execute_result"
    }
   ],
   "source": [
    "len(index)"
   ]
  },
  {
   "cell_type": "code",
   "execution_count": 40,
   "id": "70d47d42-babc-4d72-9b50-e388b255d788",
   "metadata": {},
   "outputs": [
    {
     "data": {
      "text/plain": [
       "[72, 24, 48, 120, 240]"
      ]
     },
     "execution_count": 40,
     "metadata": {},
     "output_type": "execute_result"
    }
   ],
   "source": [
    "index_plantard"
   ]
  },
  {
   "cell_type": "code",
   "execution_count": null,
   "id": "639df122-ea50-4edc-97d6-313b9c82a740",
   "metadata": {},
   "outputs": [],
   "source": [
    "for i in range(5):\n",
    "    "
   ]
  },
  {
   "cell_type": "code",
   "execution_count": 17,
   "id": "13d109d5-a629-4df8-b22e-fd8efa2750ff",
   "metadata": {},
   "outputs": [
    {
     "name": "stdout",
     "output_type": "stream",
     "text": [
      "[432   0   0   0   0   0   0   0   0   0   0   0   0   0   0   0   0   0   0   0   0   0   0   0   0   0   0   0   0   0   0   0   0   0   0   0   0   0   0   0   0   0   0   0   0   0   0   0   0   0   0   0   0   0   0   0   0   0   0   0   0   0   0   0   0   0   0   0   0   0   0   0   0   0   0   0   0   0   0   0   0   0   0   0   0   0   0   0   0   0   0   0   0   0   0   0   0   0   0   0   0   0   0   0   0   0   0   0   0   0   0   0   0   0   0   0   0   0   0   0   0   0   0   0   0   0   0   0   0   0   0   0   0   0   0   0   0   0   0   0   0   0   0   0]\n",
      "[ 72 360   0   0   0   0   0   0   0   0   0   0   0   0   0   0   0   0   0   0   0   0   0   0   0   0   0   0   0   0   0   0   0   0   0   0   0   0   0   0   0   0   0   0   0   0   0   0   0   0   0   0   0   0   0   0   0   0   0   0   0   0   0   0   0   0   0   0   0   0   0   0   0   0   0   0   0   0   0   0   0   0   0   0   0   0   0   0   0   0   0   0   0   0   0   0   0   0   0   0   0   0   0   0   0   0   0   0   0   0   0   0   0   0   0   0   0   0   0   0   0   0   0   0   0   0   0   0   0   0   0   0   0   0   0   0   0   0   0   0   0   0   0   0]\n",
      "[ 24 168 312 120 264 408   0   0   0   0   0   0   0   0   0   0   0   0   0   0   0   0   0   0   0   0   0   0   0   0   0   0   0   0   0   0   0   0   0   0   0   0   0   0   0   0   0   0   0   0   0   0   0   0   0   0   0   0   0   0   0   0   0   0   0   0   0   0   0   0   0   0   0   0   0   0   0   0   0   0   0   0   0   0   0   0   0   0   0   0   0   0   0   0   0   0   0   0   0   0   0   0   0   0   0   0   0   0   0   0   0   0   0   0   0   0   0   0   0   0   0   0   0   0   0   0   0   0   0   0   0   0   0   0   0   0   0   0   0   0   0   0   0   0]\n",
      "[  8 152 296  56 200 344 104 248 392  40 184 328  88 232 376 136 280 424   0   0   0   0   0   0   0   0   0   0   0   0   0   0   0   0   0   0   0   0   0   0   0   0   0   0   0   0   0   0   0   0   0   0   0   0   0   0   0   0   0   0   0   0   0   0   0   0   0   0   0   0   0   0   0   0   0   0   0   0   0   0   0   0   0   0   0   0   0   0   0   0   0   0   0   0   0   0   0   0   0   0   0   0   0   0   0   0   0   0   0   0   0   0   0   0   0   0   0   0   0   0   0   0   0   0   0   0   0   0   0   0   0   0   0   0   0   0   0   0   0   0   0   0   0   0]\n",
      "[  4 220  76 292 148 364  28 244 100 316 172 388  52 268 124 340 196 412  20 236  92 308 164 380  44 260 116 332 188 404  68 284 140 356 212 428   0   0   0   0   0   0   0   0   0   0   0   0   0   0   0   0   0   0   0   0   0   0   0   0   0   0   0   0   0   0   0   0   0   0   0   0   0   0   0   0   0   0   0   0   0   0   0   0   0   0   0   0   0   0   0   0   0   0   0   0   0   0   0   0   0   0   0   0   0   0   0   0   0   0   0   0   0   0   0   0   0   0   0   0   0   0   0   0   0   0   0   0   0   0   0   0   0   0   0   0   0   0   0   0   0   0   0   0]\n",
      "[  2 218 110 326  38 254 146 362  74 290 182 398  14 230 122 338  50 266 158 374  86 302 194 410  26 242 134 350  62 278 170 386  98 314 206 422  10 226 118 334  46 262 154 370  82 298 190 406  22 238 130 346  58 274 166 382  94 310 202 418  34 250 142 358  70 286 178 394 106 322 214 430   0   0   0   0   0   0   0   0   0   0   0   0   0   0   0   0   0   0   0   0   0   0   0   0   0   0   0   0   0   0   0   0   0   0   0   0   0   0   0   0   0   0   0   0   0   0   0   0   0   0   0   0   0   0   0   0   0   0   0   0   0   0   0   0   0   0   0   0   0   0   0   0]\n",
      "[  1 217 109 325  55 271 163 379  19 235 127 343  73 289 181 397  37 253 145 361  91 307 199 415   7 223 115 331  61 277 169 385  25 241 133 349  79 295 187 403  43 259 151 367  97 313 205 421  13 229 121 337  67 283 175 391  31 247 139 355  85 301 193 409  49 265 157 373 103 319 211 427   5 221 113 329  59 275 167 383  23 239 131 347  77 293 185 401  41 257 149 365  95 311 203 419  11 227 119 335  65 281 173 389  29 245 137 353  83 299 191 407  47 263 155 371 101 317 209 425  17 233 125 341  71 287 179 395  35 251 143 359  89 305 197 413  53 269 161 377 107 323 215 431]\n"
     ]
    }
   ],
   "source": [
    "print(tree)"
   ]
  },
  {
   "cell_type": "code",
   "execution_count": 24,
   "id": "26ba779e-60d7-4c19-a8b6-bf0979c49e67",
   "metadata": {},
   "outputs": [],
   "source": [
    "index_plantard = zero_matrix(ZZ,n/b,1);"
   ]
  },
  {
   "cell_type": "code",
   "execution_count": 25,
   "id": "724ac7c7-38ec-445d-a5fd-4f4c05609727",
   "metadata": {},
   "outputs": [
    {
     "data": {
      "text/plain": [
       "144 x 1 dense matrix over Integer Ring (use the '.str()' method to see the entries)"
      ]
     },
     "execution_count": 25,
     "metadata": {},
     "output_type": "execute_result"
    }
   ],
   "source": [
    "index_plantard"
   ]
  },
  {
   "cell_type": "code",
   "execution_count": null,
   "id": "821ed5b8-e73a-45a2-8f10-4994eb5309d7",
   "metadata": {},
   "outputs": [],
   "source": [
    "for i in range(5):\n",
    "    index_plantard[]"
   ]
  }
 ],
 "metadata": {
  "kernelspec": {
   "display_name": "SageMath 10.5",
   "language": "sage",
   "name": "sagemath-10.5"
  },
  "language_info": {
   "codemirror_mode": {
    "name": "ipython",
    "version": 3
   },
   "file_extension": ".py",
   "mimetype": "text/x-python",
   "name": "python",
   "nbconvert_exporter": "python",
   "pygments_lexer": "ipython3",
   "version": "3.12.5"
  }
 },
 "nbformat": 4,
 "nbformat_minor": 5
}
