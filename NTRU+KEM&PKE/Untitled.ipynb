{
 "cells": [
  {
   "cell_type": "code",
   "execution_count": 1,
   "id": "f78cbf89-3498-4726-ab27-818409e083e0",
   "metadata": {},
   "outputs": [],
   "source": [
    "n = 576\n",
    "q = 3457\n",
    "w = 81"
   ]
  },
  {
   "cell_type": "code",
   "execution_count": null,
   "id": "83f9ba70-64b7-405e-b6ed-a781b494fda7",
   "metadata": {},
   "outputs": [],
   "source": []
  }
 ],
 "metadata": {
  "kernelspec": {
   "display_name": "SageMath 10.5",
   "language": "sage",
   "name": "sagemath-10.5"
  },
  "language_info": {
   "codemirror_mode": {
    "name": "ipython",
    "version": 3
   },
   "file_extension": ".py",
   "mimetype": "text/x-python",
   "name": "python",
   "nbconvert_exporter": "python",
   "pygments_lexer": "ipython3",
   "version": "3.12.5"
  }
 },
 "nbformat": 4,
 "nbformat_minor": 5
}
