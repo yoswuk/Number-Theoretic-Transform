{
 "cells": [
  {
   "cell_type": "code",
   "execution_count": 114,
   "metadata": {
    "collapsed": false
   },
   "outputs": [
   ],
   "source": [
    "def find_ntt_prime(n,bits):\n",
    "\n",
    "    qs =[];\n",
    "\n",
    "    k = 1;\n",
    "\n",
    "    while True:\n",
    "        q = 2*n*k+1;\n",
    "\n",
    "        if q > 2^bits:\n",
    "            break;\n",
    "\n",
    "        if q in Primes():\n",
    "            qs.append(q);\n",
    "\n",
    "        k += 1;\n",
    "\n",
    "    return qs;"
   ]
  },
  {
   "cell_type": "code",
   "execution_count": 115,
   "metadata": {
    "collapsed": false
   },
   "outputs": [
   ],
   "source": [
    "def find_generator(q):\n",
    "\n",
    "    Zq = IntegerModRing(q);\n",
    "\n",
    "    gs = range(1,q);\n",
    "\n",
    "    for x in list(factor(q-1)):\n",
    "        p = x[0];\n",
    "\n",
    "        t = [];\n",
    "\n",
    "        for g in gs:\n",
    "            if Zq(g)^((q-1)/p) != 1:\n",
    "                t.append(Zq(g));\n",
    "\n",
    "        gs = t;\n",
    "\n",
    "    return gs;"
   ]
  },
  {
   "cell_type": "code",
   "execution_count": 116,
   "metadata": {
    "collapsed": false
   },
   "outputs": [
   ],
   "source": [
    "def find_w(q):\n",
    "\n",
    "    k = Integer((q-1)/(2*n));\n",
    "\n",
    "    ws = [g^k for g in find_generator(q)];\n",
    "\n",
    "    return sorted(list(set(ws)));"
   ]
  },
  {
   "cell_type": "code",
   "execution_count": 130,
   "metadata": {
    "collapsed": false
   },
   "outputs": [
   ],
   "source": [
    "class NTT:\n",
    "    def __init__(self,n,q,w):\n",
    "        self.n = n;\n",
    "\n",
    "        Zq = IntegerModRing(q);\n",
    "\n",
    "        self.two_inv = Zq(2)^(q-2);\n",
    "        self.level = Integer(log(n,2));\n",
    "\n",
    "        self.zetas = [];\n",
    "\n",
    "        tree = zero_matrix(ZZ,self.level+1,1 << self.level);\n",
    "        tree[0,0] = self.n;\n",
    "\n",
    "        for l in range(self.level):\n",
    "            for i in range(1 << l):\n",
    "                tree[l+1,2*i  ] = tree[l  ,  i] / 2;\n",
    "                tree[l+1,2*i+1] = tree[l+1,2*i] + self.n;\n",
    "\n",
    "                self.zetas.append(Zq(w)^tree[l+1,2*i]);\n",
    "\n",
    "        print(tree)\n",
    "\n",
    "    def ntt(self, a):\n",
    "        k = 0;\n",
    "\n",
    "        step = self.n/2;\n",
    "\n",
    "        b = a.copy();\n",
    "\n",
    "        while step >= 1:\n",
    "            for start in range(0,self.n,(step << 1)):\n",
    "                zeta = self.zetas[k];\n",
    "                k += 1;\n",
    "\n",
    "                for i in range(start,start+step):\n",
    "                    t = zeta * b[i+step];\n",
    "\n",
    "                    b[i+step] = Zq(b[i]-t);\n",
    "                    b[i     ] = Zq(b[i]+t);\n",
    "\n",
    "            step >>= 1;\n",
    "\n",
    "        return b;\n",
    "\n",
    "    def invntt(self, a):\n",
    "        k = self.n-2;\n",
    "\n",
    "        step = 1;\n",
    "\n",
    "        b = a.copy();\n",
    "\n",
    "        while step <= self.n/2:\n",
    "            for start in range(0,self.n,(step << 1)):\n",
    "                zeta = self.zetas[k];\n",
    "                k -= 1;\n",
    "\n",
    "                for i in range(start,start+step):\n",
    "                    t = b[i+step];\n",
    "\n",
    "                    b[i+step] = Zq(t-b[i]) * zeta;\n",
    "                    b[i     ] = Zq(t+b[i])\n",
    "\n",
    "            step <<= 1;\n",
    "\n",
    "        factor = self.two_inv^self.level;\n",
    "\n",
    "        b = [b[i]*factor for i in range(n)];\n",
    "\n",
    "        return b;"
   ]
  },
  {
   "cell_type": "code",
   "execution_count": 131,
   "metadata": {
    "collapsed": false
   },
   "outputs": [
   ],
   "source": [
    "def ntt_mul(n,q,a,b):\n",
    "    Zq = IntegerModRing(q);\n",
    "\n",
    "    c = [Zq(a[i]*b[i]) for i in range(n)];\n",
    "\n",
    "    return c;"
   ]
  },
  {
   "cell_type": "code",
   "execution_count": 132,
   "metadata": {
    "collapsed": false
   },
   "outputs": [
   ],
   "source": [
    "def poly_mul(n,q,a,b):\n",
    "    Zq = IntegerModRing(q);\n",
    "    c = [0]*n;\n",
    "\n",
    "    for i in range(n):\n",
    "        for j in range(n-i):\n",
    "            c[i+j  ] += Zq(a[i]*b[j]);\n",
    "\n",
    "        for j in range(n-i,n):\n",
    "            c[i+j-n] -= Zq(a[i]*b[j]);\n",
    "\n",
    "    return c;"
   ]
  },
  {
   "cell_type": "code",
   "execution_count": 141,
   "metadata": {
    "collapsed": false
   },
   "outputs": [
   ],
   "source": [
    "n = 64"
   ]
  },
  {
   "cell_type": "code",
   "execution_count": 142,
   "metadata": {
    "collapsed": false
   },
   "outputs": [
    {
     "name": "stdout",
     "output_type": "stream",
     "text": [
      "257\n"
     ]
    }
   ],
   "source": [
    "qs = find_ntt_prime(n,14);\n",
    "q = min(qs)\n",
    "print(q)"
   ]
  },
  {
   "cell_type": "code",
   "execution_count": 143,
   "metadata": {
    "collapsed": false
   },
   "outputs": [
    {
     "name": "stdout",
     "output_type": "stream",
     "text": [
      "9\n"
     ]
    }
   ],
   "source": [
    "ws = find_w(q)\n",
    "w = min(ws)\n",
    "print(w)"
   ]
  },
  {
   "cell_type": "code",
   "execution_count": 144,
   "metadata": {
    "collapsed": false
   },
   "outputs": [
    {
     "name": "stdout",
     "output_type": "stream",
     "text": [
      "[ 64   0   0   0   0   0   0   0   0   0   0   0   0   0   0   0   0   0   0   0   0   0   0   0   0   0   0   0   0   0   0   0   0   0   0   0   0   0   0   0   0   0   0   0   0   0   0   0   0   0   0   0   0   0   0   0   0   0   0   0   0   0   0   0]\n",
      "[ 32  96   0   0   0   0   0   0   0   0   0   0   0   0   0   0   0   0   0   0   0   0   0   0   0   0   0   0   0   0   0   0   0   0   0   0   0   0   0   0   0   0   0   0   0   0   0   0   0   0   0   0   0   0   0   0   0   0   0   0   0   0   0   0]\n",
      "[ 16  80  48 112   0   0   0   0   0   0   0   0   0   0   0   0   0   0   0   0   0   0   0   0   0   0   0   0   0   0   0   0   0   0   0   0   0   0   0   0   0   0   0   0   0   0   0   0   0   0   0   0   0   0   0   0   0   0   0   0   0   0   0   0]\n",
      "[  8  72  40 104  24  88  56 120   0   0   0   0   0   0   0   0   0   0   0   0   0   0   0   0   0   0   0   0   0   0   0   0   0   0   0   0   0   0   0   0   0   0   0   0   0   0   0   0   0   0   0   0   0   0   0   0   0   0   0   0   0   0   0   0]\n",
      "[  4  68  36 100  20  84  52 116  12  76  44 108  28  92  60 124   0   0   0   0   0   0   0   0   0   0   0   0   0   0   0   0   0   0   0   0   0   0   0   0   0   0   0   0   0   0   0   0   0   0   0   0   0   0   0   0   0   0   0   0   0   0   0   0]\n",
      "[  2  66  34  98  18  82  50 114  10  74  42 106  26  90  58 122   6  70  38 102  22  86  54 118  14  78  46 110  30  94  62 126   0   0   0   0   0   0   0   0   0   0   0   0   0   0   0   0   0   0   0   0   0   0   0   0   0   0   0   0   0   0   0   0]\n",
      "[  1  65  33  97  17  81  49 113   9  73  41 105  25  89  57 121   5  69  37 101  21  85  53 117  13  77  45 109  29  93  61 125   3  67  35  99  19  83  51 115  11  75  43 107  27  91  59 123   7  71  39 103  23  87  55 119  15  79  47 111  31  95  63 127]\n"
     ]
    }
   ],
   "source": [
    "ntt_inst = NTT(n,q,w);"
   ]
  },
  {
   "cell_type": "code",
   "execution_count": 124,
   "metadata": {
    "collapsed": false
   },
   "outputs": [
   ],
   "source": [
    "Zq = IntegerModRing(q);\n",
    "\n",
    "a = [randrange(q) for i in range(n)];\n",
    "b = [randrange(q) for i in range(n)];"
   ]
  },
  {
   "cell_type": "code",
   "execution_count": 125,
   "metadata": {
    "collapsed": false
   },
   "outputs": [
   ],
   "source": [
    "a_ntt = ntt_inst.ntt(a);\n",
    "b_ntt = ntt_inst.ntt(b);"
   ]
  },
  {
   "cell_type": "code",
   "execution_count": 126,
   "metadata": {
    "collapsed": false
   },
   "outputs": [
   ],
   "source": [
    "c_ntt = ntt_mul(n,q,a_ntt,b_ntt);"
   ]
  },
  {
   "cell_type": "code",
   "execution_count": 127,
   "metadata": {
    "collapsed": false
   },
   "outputs": [
   ],
   "source": [
    "c_1 = ntt_inst.invntt(c_ntt);"
   ]
  },
  {
   "cell_type": "code",
   "execution_count": 128,
   "metadata": {
    "collapsed": false
   },
   "outputs": [
   ],
   "source": [
    "c_2 = poly_mul(n,q,a,b);"
   ]
  },
  {
   "cell_type": "code",
   "execution_count": 129,
   "metadata": {
    "collapsed": false
   },
   "outputs": [
    {
     "data": {
      "text/plain": [
       "True"
      ]
     },
     "execution_count": 129,
     "metadata": {
     },
     "output_type": "execute_result"
    }
   ],
   "source": [
    "c_1 == c_2"
   ]
  }
 ],
 "metadata": {
  "kernelspec": {
   "argv": [
    "sage-10.0",
    "--python",
    "-m",
    "sage.repl.ipython_kernel",
    "--matplotlib=inline",
    "-f",
    "{connection_file}"
   ],
   "display_name": "SageMath 10.0",
   "env": {
   },
   "language": "sagemath",
   "metadata": {
    "cocalc": {
     "description": "Open-source mathematical software system",
     "priority": 10,
     "url": "https://www.sagemath.org/"
    }
   },
   "name": "sage-10.0",
   "resource_dir": "/ext/jupyter/kernels/sage-10.0"
  },
  "language_info": {
   "codemirror_mode": {
    "name": "ipython",
    "version": 3
   },
   "file_extension": ".py",
   "mimetype": "text/x-python",
   "name": "python",
   "nbconvert_exporter": "python",
   "pygments_lexer": "ipython3",
   "version": "3.11.1"
  }
 },
 "nbformat": 4,
 "nbformat_minor": 4
}