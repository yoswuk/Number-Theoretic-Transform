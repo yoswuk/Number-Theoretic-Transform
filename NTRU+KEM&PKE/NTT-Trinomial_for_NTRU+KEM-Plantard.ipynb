{
 "cells": [
  {
   "cell_type": "code",
   "execution_count": 1,
   "metadata": {},
   "outputs": [],
   "source": [
    "def center(x,q):\n",
    "    if q % 1 == 0:\n",
    "        qhalf = Integer((q-1)/2)\n",
    "        \n",
    "        return ((Integer(x) + qhalf) % q) - qhalf;\n",
    "    else:\n",
    "        return 0;"
   ]
  },
  {
   "cell_type": "code",
   "execution_count": 2,
   "metadata": {},
   "outputs": [],
   "source": [
    "def find_n_cyclotomic_trinomial(lbits,hbits):\n",
    "    set = [];\n",
    "    for i in range(1,hbits+1):\n",
    "        for j in range(0,hbits+1):\n",
    "            n = 2^i*3^j;\n",
    "            \n",
    "            if n > 2^hbits or n < 2^lbits:\n",
    "                continue;\n",
    "            else:\n",
    "                set.append(n);\n",
    "    \n",
    "    set.sort();\n",
    "            \n",
    "    return set;"
   ]
  },
  {
   "cell_type": "code",
   "execution_count": 3,
   "metadata": {},
   "outputs": [],
   "source": [
    "def find_ntt_prime_cyclotomic(n,b,lbits,hbits):\n",
    "    \n",
    "    fac = factor(n);\n",
    "    \n",
    "    if len(fac) > 2 or len(fac) == 0:\n",
    "        #print(\"does not support cyclotomic trinomial\");\n",
    "        return 0;\n",
    "\n",
    "    if len(fac) == 1:\n",
    "        if fac[0][0] != 2:\n",
    "            #print(\"does not support cyclotomic trinomial\");\n",
    "            return 0;\n",
    "            \n",
    "    if len(fac) == 2:\n",
    "        if fac[0][0] != 2 or fac[1][0] != 3:\n",
    "            #print(\"does not support cyclotomic trinomial\");\n",
    "            return 0;\n",
    "        \n",
    "    if ((n % b) != 0) or (n/2 < b):\n",
    "        #print(\"please select adequete b\");\n",
    "        return 0;\n",
    "    \n",
    "    w_order = 3*n/b;\n",
    "    \n",
    "    qs =[];\n",
    "\n",
    "    k = 1;\n",
    "\n",
    "    while True:\n",
    "        q = w_order*k+1;\n",
    "\n",
    "        k += 1;\n",
    "\n",
    "        if q < 2^lbits:\n",
    "            continue;\n",
    "            \n",
    "        if q > 2^hbits:\n",
    "            break;\n",
    "\n",
    "        if q in Primes():\n",
    "            qs.append(q);\n",
    "\n",
    "    return qs;"
   ]
  },
  {
   "cell_type": "code",
   "execution_count": 4,
   "metadata": {},
   "outputs": [],
   "source": [
    "def find_generator(q):\n",
    "\n",
    "    Zq = IntegerModRing(q);\n",
    "\n",
    "    gs = range(1,q);\n",
    "\n",
    "    for x in list(factor(q-1)):\n",
    "        p = x[0];\n",
    "\n",
    "        t = [];\n",
    "\n",
    "        for g in gs:\n",
    "            if Zq(g)^((q-1)/p) != 1:\n",
    "                t.append(Zq(g));\n",
    "\n",
    "        gs = t;\n",
    "\n",
    "    return gs;"
   ]
  },
  {
   "cell_type": "code",
   "execution_count": 5,
   "metadata": {},
   "outputs": [],
   "source": [
    "def find_w_order_cyclotomic_trinomial(n,b):\n",
    "\n",
    "    return 3*n/b;"
   ]
  },
  {
   "cell_type": "code",
   "execution_count": 6,
   "metadata": {},
   "outputs": [],
   "source": [
    "def find_w_cyclotomic_trinomial(n,q,b):\n",
    "\n",
    "    w_order = find_w_order_cyclotomic_trinomial(n,b);\n",
    "    \n",
    "    k = Integer((q-1)/w_order);\n",
    "    \n",
    "    ws = [g^k for g in find_generator(q)];\n",
    "    \n",
    "    return sorted(list(set(ws)));"
   ]
  },
  {
   "cell_type": "code",
   "execution_count": null,
   "metadata": {},
   "outputs": [],
   "source": []
  },
  {
   "cell_type": "code",
   "execution_count": 7,
   "metadata": {},
   "outputs": [],
   "source": [
    "def gen_tree(n,q,b):\n",
    "    \n",
    "    Zq = IntegerModRing(q);\n",
    "    \n",
    "    fac = factor(n/b);\n",
    "    \n",
    "    if len(fac) == 2:\n",
    "        Radix2 = fac[0][1];\n",
    "        Radix3 = fac[1][1];\n",
    "    \n",
    "    if len(fac) == 1:\n",
    "        if fac[0][0] == 2:\n",
    "            Radix2 = fac[0][1];\n",
    "            Radix3 = 0;\n",
    "\n",
    "        if fac[0][0] == 3:\n",
    "            Radix2 = 0;\n",
    "            Radix3 = fac[0][1];\n",
    "\n",
    "    level = Radix2+Radix3;\n",
    "\n",
    "    tree = zero_matrix(ZZ,level+1,n/b);\n",
    "    tree[0,0] = find_w_order_cyclotomic_trinomial(n,b);\n",
    "\n",
    "    zetas = [Integer(Zq(-2^32)) & 0xffffffff];\n",
    "\n",
    "    qprime = Integer(q^-1 % 2^32);\n",
    "    \n",
    "    #Radix-2 NTT with Cyclotomic Polynomial\n",
    "    tree[1,0] = tree[0,0] / 6;\n",
    "    tree[1,1] = 5*tree[0,0] / 6;\n",
    "\n",
    "\n",
    "    \n",
    "    #Radix-3 NTT\n",
    "    for l in range(1,Radix3+1):\n",
    "        for i in range(2*3^(l-1)):\n",
    "            tree[l+1,3*i  ] = tree[l  ,  i] / 3;\n",
    "            tree[l+1,3*i+1] = tree[l  ,  i] / 3 + tree[0,0]/3;\n",
    "            tree[l+1,3*i+2] = tree[l  ,  i] / 3 + 2*tree[0,0]/3;\n",
    "\n",
    "            x = Zq(w)^(tree[l+1,3*i]) * (-2^32);\n",
    "            x = Integer(x);\n",
    "            x = (x * qprime) & 0xffffffff;\n",
    "            zetas.append(x);\n",
    "            x = Zq(w)^(tree[l+1,3*i]*2) * (-2^32);\n",
    "            x = Integer(x);\n",
    "            x = (x * qprime) & 0xffffffff;\n",
    "            zetas.append(x);\n",
    "            \n",
    "\n",
    "    #Radix-2 NTT\n",
    "    for l in range(Radix3+1,level):\n",
    "        for i in range(2*3^(Radix3)*2^(l-(Radix3+1))):\n",
    "            tree[l+1,2*i  ] = tree[l  ,  i] / 2;\n",
    "            tree[l+1,2*i+1] = tree[l  ,  i] / 2 + tree[0,0]/2;\n",
    "\n",
    "            x = Zq(w)^(tree[l+1,2*i]) * (-2^32);\n",
    "            x = Integer(x);\n",
    "            x = (x * qprime) & 0xffffffff;\n",
    "            zetas.append(x);\n",
    "            \n",
    "    return tree;    "
   ]
  },
  {
   "cell_type": "code",
   "execution_count": null,
   "metadata": {},
   "outputs": [],
   "source": []
  },
  {
   "cell_type": "code",
   "execution_count": null,
   "metadata": {},
   "outputs": [],
   "source": []
  },
  {
   "cell_type": "code",
   "execution_count": null,
   "metadata": {},
   "outputs": [],
   "source": []
  },
  {
   "cell_type": "code",
   "execution_count": 8,
   "metadata": {},
   "outputs": [],
   "source": [
    "def print_zetas(zetas):\n",
    "    \n",
    "    l = len(zetas)\n",
    "    str1 = \"const int16_t zetas[%d] = {\" % l\n",
    "    print(str1)\n",
    "    for i in range(ceil(l/8)-1):\n",
    "        str = \"\\t\";\n",
    "        for j in range(7):\n",
    "            str += \"%5d, \" %zetas[8*i+j];\n",
    "        str += \"%5d,\" %zetas[8*i+7];\n",
    "        print(str);\n",
    "\n",
    "    str = \"\\t\";\n",
    "    for j in range((l%8-1)%8):\n",
    "        str += \"%5d, \" %zetas[8*ceil(l/8)-8+j];\n",
    "    str += \"%5d\" %zetas[l-1];  \n",
    "    print(str);    \n",
    "    print(\"};\");"
   ]
  },
  {
   "cell_type": "code",
   "execution_count": 9,
   "metadata": {},
   "outputs": [],
   "source": [
    "def print_params(n,q,d,w):\n",
    "    \n",
    "    zetas = gen_zetas(n,q,b);\n",
    "    print_zetas(zetas);\n",
    "\n",
    "    Zq = IntegerModRing(q);\n",
    "    qprime = Integer(q^-1 % 2^32);\n",
    "    \n",
    "    print(\"====ntt====\");\n",
    "    x = Zq(w)^(find_w_order_cyclotomic_trinomial(n,b)/3) * (-2^32);\n",
    "    x = Integer(x);\n",
    "    x = (x * qprime) & 0xffffffff;\n",
    "    print(\"w %d\" %x);\n",
    "\n",
    "    print(\"====invntt====\");\n",
    "    print(\"w %d\" %center(Integer(Zq(w)^(find_w_order_cyclotomic_trinomial(n,b)/3)*2^16),q));\n",
    "    z = Zq(w)^(find_w_order_cyclotomic_trinomial(n,b)/6);\n",
    "    print(\"(z - z^5)^-1 %d\" %center(Integer(Zq(2^16) * Zq(z - z^5)^-1),q))\n",
    "    print(\"2^-1 %d\" %center(Integer(Zq(2^-1 *2^16)),q))\n",
    "    \n",
    "    \n",
    "    fac = factor(n/b);\n",
    "    \n",
    "    if len(fac) == 2:\n",
    "        Radix2 = fac[0][1];\n",
    "        Radix3 = fac[1][1];\n",
    "    \n",
    "    if len(fac) == 1:\n",
    "        if fac[0][0] == 2:\n",
    "            Radix2 = fac[0][1];\n",
    "            Radix3 = 0;\n",
    "\n",
    "        if fac[0][0] == 3:\n",
    "            Radix2 = 0;\n",
    "            Radix3 = fac[0][1];\n",
    "\n",
    "    print(\"level1 %d\" %center(Integer(Zq(2^31*2^(-Radix2+1)*3^(-Radix3))),q))\n",
    "    print(\"level2 %d\" %center(Integer(Zq(2^32*2^(-Radix2+1)*3^(-Radix3))),q))\n",
    "    print(\"====reduce.h====\");    \n",
    "    print(\"QINV : %d\" %(q^-1 % 2^16))\n",
    "\n"
   ]
  },
  {
   "cell_type": "code",
   "execution_count": 10,
   "metadata": {},
   "outputs": [],
   "source": [
    "n_set = find_n_cyclotomic_trinomial(9,11);\n",
    "b_set = [1,2,3,4,6];"
   ]
  },
  {
   "cell_type": "code",
   "execution_count": 11,
   "metadata": {},
   "outputs": [
    {
     "name": "stdout",
     "output_type": "stream",
     "text": [
      "n :  512\n",
      "b :  1 , qs :  [7681, 10753, 12289, 15361, 18433, 23041, 26113, 32257]\n",
      "b :  2 , qs :  [769, 7681, 10753, 12289, 14593, 15361, 18433, 22273, 23041, 26113, 26881, 31489, 32257]\n",
      "b :  4 , qs :  [769, 1153, 2689, 3457, 4993, 6529, 7297, 7681, 9601, 10369, 10753, 12289, 13441, 14593, 15361, 18049, 18433, 20353, 21121, 22273, 23041, 26113, 26497, 26881, 29569, 31489, 31873, 32257]\n",
      "\n",
      "n :  576\n",
      "b :  1 , qs :  [3457, 8641, 10369, 12097, 19009]\n",
      "b :  2 , qs :  [2593, 3457, 8641, 10369, 12097, 16417, 19009, 21601, 25057, 28513, 30241]\n",
      "b :  3 , qs :  [577, 1153, 3457, 6337, 7489, 8641, 10369, 12097, 13249, 14401, 18433, 19009, 20161, 21313, 23041, 26497, 27073, 30529, 32257]\n",
      "b :  4 , qs :  [433, 1297, 2161, 2593, 3457, 3889, 6481, 8209, 8641, 10369, 12097, 15121, 16417, 17713, 19009, 19441, 21169, 21601, 23761, 25057, 28081, 28513, 30241, 32401]\n",
      "b :  6 , qs :  [577, 1153, 2017, 2593, 3169, 3457, 6337, 7489, 8353, 8641, 8929, 10369, 10657, 12097, 13249, 13537, 14401, 16417, 16993, 17569, 18433, 19009, 20161, 21313, 21601, 23041, 24481, 25057, 25633, 26209, 26497, 27073, 27361, 28513, 30241, 30529, 30817, 31393, 32257]\n",
      "\n",
      "n :  648\n",
      "b :  1 , qs :  [3889, 9721, 17497, 19441]\n",
      "b :  2 , qs :  [2917, 3889, 4861, 9721, 12637, 17497, 19441, 30133, 32077]\n",
      "b :  3 , qs :  [1297, 2593, 3889, 6481, 7129, 9721, 10369, 17497, 18793, 19441, 20089, 23977, 28513, 32401]\n",
      "b :  4 , qs :  [487, 1459, 2917, 3889, 4861, 5347, 8263, 9721, 12637, 17011, 17497, 19441, 19927, 20899, 21871, 25759, 26731, 30133, 32077, 32563]\n",
      "b :  6 , qs :  [1297, 1621, 2269, 2593, 2917, 3889, 4861, 6481, 7129, 8101, 9397, 9721, 10369, 12637, 13933, 15877, 17497, 18793, 19441, 20089, 21061, 23977, 26893, 27541, 28513, 28837, 30133, 30781, 32077, 32401]\n",
      "\n",
      "n :  768\n",
      "b :  1 , qs :  [18433, 23041, 32257]\n",
      "b :  2 , qs :  [1153, 3457, 10369, 18433, 23041, 26497, 32257]\n",
      "b :  3 , qs :  [769, 7681, 10753, 12289, 14593, 15361, 18433, 22273, 23041, 26113, 26881, 31489, 32257]\n",
      "b :  4 , qs :  [577, 1153, 3457, 6337, 7489, 8641, 10369, 12097, 13249, 14401, 18433, 19009, 20161, 21313, 23041, 26497, 27073, 30529, 32257]\n",
      "b :  6 , qs :  [769, 1153, 2689, 3457, 4993, 6529, 7297, 7681, 9601, 10369, 10753, 12289, 13441, 14593, 15361, 18049, 18433, 20353, 21121, 22273, 23041, 26113, 26497, 26881, 29569, 31489, 31873, 32257]\n",
      "\n",
      "n :  864\n",
      "b :  1 , qs :  [2593, 10369, 28513]\n",
      "b :  2 , qs :  [1297, 2593, 3889, 6481, 10369, 19441, 28513, 32401]\n",
      "b :  3 , qs :  [2593, 3457, 8641, 10369, 12097, 16417, 19009, 21601, 25057, 28513, 30241]\n",
      "b :  4 , qs :  [1297, 2593, 3889, 6481, 7129, 9721, 10369, 17497, 18793, 19441, 20089, 23977, 28513, 32401]\n",
      "b :  6 , qs :  [433, 1297, 2161, 2593, 3457, 3889, 6481, 8209, 8641, 10369, 12097, 15121, 16417, 17713, 19009, 19441, 21169, 21601, 23761, 25057, 28081, 28513, 30241, 32401]\n",
      "\n",
      "n :  972\n",
      "b :  1 , qs :  [2917, 17497, 32077]\n",
      "b :  2 , qs :  [1459, 2917, 17497, 21871, 32077]\n",
      "b :  3 , qs :  [2917, 3889, 4861, 9721, 12637, 17497, 19441, 30133, 32077]\n",
      "b :  4 , qs :  [1459, 2917, 17497, 21871, 32077]\n",
      "b :  6 , qs :  [487, 1459, 2917, 3889, 4861, 5347, 8263, 9721, 12637, 17011, 17497, 19441, 19927, 20899, 21871, 25759, 26731, 30133, 32077, 32563]\n",
      "\n",
      "n :  1024\n",
      "b :  1 , qs :  [12289, 15361, 18433]\n",
      "b :  2 , qs :  [7681, 10753, 12289, 15361, 18433, 23041, 26113, 32257]\n",
      "b :  4 , qs :  [769, 7681, 10753, 12289, 14593, 15361, 18433, 22273, 23041, 26113, 26881, 31489, 32257]\n",
      "\n",
      "n :  1152\n",
      "b :  1 , qs :  [3457, 10369]\n",
      "b :  2 , qs :  [3457, 8641, 10369, 12097, 19009]\n",
      "b :  3 , qs :  [1153, 3457, 10369, 18433, 23041, 26497, 32257]\n",
      "b :  4 , qs :  [2593, 3457, 8641, 10369, 12097, 16417, 19009, 21601, 25057, 28513, 30241]\n",
      "b :  6 , qs :  [577, 1153, 3457, 6337, 7489, 8641, 10369, 12097, 13249, 14401, 18433, 19009, 20161, 21313, 23041, 26497, 27073, 30529, 32257]\n",
      "\n",
      "n :  1296\n",
      "b :  1 , qs :  [3889, 19441]\n",
      "b :  2 , qs :  [3889, 9721, 17497, 19441]\n",
      "b :  3 , qs :  [1297, 2593, 3889, 6481, 10369, 19441, 28513, 32401]\n",
      "b :  4 , qs :  [2917, 3889, 4861, 9721, 12637, 17497, 19441, 30133, 32077]\n",
      "b :  6 , qs :  [1297, 2593, 3889, 6481, 7129, 9721, 10369, 17497, 18793, 19441, 20089, 23977, 28513, 32401]\n",
      "\n",
      "n :  1458\n",
      "b :  1 , qs :  [17497, 21871]\n",
      "b :  2 , qs :  [17497, 21871]\n",
      "b :  3 , qs :  [1459, 2917, 17497, 21871, 32077]\n",
      "b :  6 , qs :  [1459, 2917, 17497, 21871, 32077]\n",
      "\n",
      "n :  1536\n",
      "b :  1 , qs :  [18433, 23041, 32257]\n",
      "b :  2 , qs :  [18433, 23041, 32257]\n",
      "b :  3 , qs :  [7681, 10753, 12289, 15361, 18433, 23041, 26113, 32257]\n",
      "b :  4 , qs :  [1153, 3457, 10369, 18433, 23041, 26497, 32257]\n",
      "b :  6 , qs :  [769, 7681, 10753, 12289, 14593, 15361, 18433, 22273, 23041, 26113, 26881, 31489, 32257]\n",
      "\n",
      "n :  1728\n",
      "b :  1 , qs :  [10369]\n",
      "b :  2 , qs :  [2593, 10369, 28513]\n",
      "b :  3 , qs :  [3457, 8641, 10369, 12097, 19009]\n",
      "b :  4 , qs :  [1297, 2593, 3889, 6481, 10369, 19441, 28513, 32401]\n",
      "b :  6 , qs :  [2593, 3457, 8641, 10369, 12097, 16417, 19009, 21601, 25057, 28513, 30241]\n",
      "\n",
      "n :  1944\n",
      "b :  1 , qs :  [17497]\n",
      "b :  2 , qs :  [2917, 17497, 32077]\n",
      "b :  3 , qs :  [3889, 9721, 17497, 19441]\n",
      "b :  4 , qs :  [1459, 2917, 17497, 21871, 32077]\n",
      "b :  6 , qs :  [2917, 3889, 4861, 9721, 12637, 17497, 19441, 30133, 32077]\n",
      "\n",
      "n :  2048\n",
      "b :  1 , qs :  [12289, 18433]\n",
      "b :  2 , qs :  [12289, 15361, 18433]\n",
      "b :  4 , qs :  [7681, 10753, 12289, 15361, 18433, 23041, 26113, 32257]\n",
      "\n"
     ]
    }
   ],
   "source": [
    "for n in n_set:\n",
    "    print(\"n : \", n);\n",
    "    for b in b_set:\n",
    "        qs = find_ntt_prime_cyclotomic(n,b,0,15);\n",
    "        if qs != 0:\n",
    "            print(\"b : \", b, \", qs : \", qs);\n",
    "    print(\"\");"
   ]
  },
  {
   "cell_type": "code",
   "execution_count": 12,
   "metadata": {},
   "outputs": [],
   "source": [
    "n = 576\n",
    "q = 3457\n",
    "b = 4\n",
    "w = 81"
   ]
  },
  {
   "cell_type": "code",
   "execution_count": 13,
   "metadata": {},
   "outputs": [],
   "source": [
    "ws = find_w_cyclotomic_trinomial(n,q,b);"
   ]
  },
  {
   "cell_type": "code",
   "execution_count": 14,
   "metadata": {},
   "outputs": [
    {
     "data": {
      "text/plain": [
       "432"
      ]
     },
     "execution_count": 14,
     "metadata": {},
     "output_type": "execute_result"
    }
   ],
   "source": [
    "find_w_order_cyclotomic_trinomial(n,b)"
   ]
  },
  {
   "cell_type": "code",
   "execution_count": 15,
   "metadata": {},
   "outputs": [],
   "source": [
    "w = min(ws)"
   ]
  },
  {
   "cell_type": "code",
   "execution_count": 16,
   "metadata": {},
   "outputs": [
    {
     "ename": "NameError",
     "evalue": "name 'gen_zetas' is not defined",
     "output_type": "error",
     "traceback": [
      "\u001b[0;31m---------------------------------------------------------------------------\u001b[0m",
      "\u001b[0;31mNameError\u001b[0m                                 Traceback (most recent call last)",
      "Cell \u001b[0;32mIn[16], line 1\u001b[0m\n\u001b[0;32m----> 1\u001b[0m \u001b[43mprint_params\u001b[49m\u001b[43m(\u001b[49m\u001b[43mn\u001b[49m\u001b[43m,\u001b[49m\u001b[43mq\u001b[49m\u001b[43m,\u001b[49m\u001b[43mb\u001b[49m\u001b[43m,\u001b[49m\u001b[43mw\u001b[49m\u001b[43m)\u001b[49m\n",
      "Cell \u001b[0;32mIn[9], line 3\u001b[0m, in \u001b[0;36mprint_params\u001b[0;34m(n, q, d, w)\u001b[0m\n\u001b[1;32m      1\u001b[0m \u001b[38;5;28;01mdef\u001b[39;00m \u001b[38;5;21mprint_params\u001b[39m(n,q,d,w):\n\u001b[0;32m----> 3\u001b[0m     zetas \u001b[38;5;241m=\u001b[39m \u001b[43mgen_zetas\u001b[49m(n,q,b);\n\u001b[1;32m      4\u001b[0m     print_zetas(zetas);\n\u001b[1;32m      6\u001b[0m     Zq \u001b[38;5;241m=\u001b[39m IntegerModRing(q);\n",
      "\u001b[0;31mNameError\u001b[0m: name 'gen_zetas' is not defined"
     ]
    }
   ],
   "source": [
    "print_params(n,q,b,w)"
   ]
  },
  {
   "cell_type": "code",
   "execution_count": null,
   "metadata": {},
   "outputs": [],
   "source": [
    "Zq = IntegerModRing(q)\n",
    "center(Integer(Zq(867)^-1*(2^16)),q)"
   ]
  },
  {
   "cell_type": "code",
   "execution_count": null,
   "metadata": {},
   "outputs": [],
   "source": [
    "2^32"
   ]
  },
  {
   "cell_type": "code",
   "execution_count": 37,
   "metadata": {},
   "outputs": [
    {
     "data": {
      "text/plain": [
       "3396714084"
      ]
     },
     "execution_count": 37,
     "metadata": {},
     "output_type": "execute_result"
    }
   ],
   "source": [
    "3396714084"
   ]
  },
  {
   "cell_type": "code",
   "execution_count": null,
   "metadata": {},
   "outputs": [],
   "source": []
  },
  {
   "cell_type": "code",
   "execution_count": null,
   "metadata": {},
   "outputs": [],
   "source": []
  },
  {
   "cell_type": "code",
   "execution_count": null,
   "metadata": {},
   "outputs": [],
   "source": [
    "const int16_t zetas[144] = {\n",
    "\t 2590, 3397956481, 2406523475, 1396454510, 1077158417, 1888443822, 559078763, 2477340119,\n",
    "\t1339304237, 660955338, 2139408066, 3273716756, 1129339101, 72059041, 2361797174, 1535603002,\n",
    "\t370234381, 2955663060, 195056369, 903222802, 708166433, 4162030791, 1490876701, 1623813207,\n",
    "\t200025958, 1610146838, 1410120880, 2395341900, 1434968825, 3334594222, 1212579717, 690772872,\n",
    "\t3773160451, 3714767780, 2292222928, 2872422444, 3856401067, 3027722101, 2904724773, 3550771343,\n",
    "\t3112205114, 122997328, 3484924289, 2015168341, 972797048, 1545542180, 735499173, 1042371294,\n",
    "\t900738007, 2067349026, 44726302, 1601450057, 2502188064, 2022622725, 213692328, 970312253,\n",
    "\t1456089578, 119270137, 332962464, 3809189971, 552866777, 587653900, 3966974422, 4004246340,\n",
    "\t262145820, 915646774, 1605177249, 2594125460, 2946966279, 3392986892, 703196844, 3942126477,\n",
    "\t100634178, 2529520803, 1554238961, 889556432, 2309616490, 3120901894, 356568011, 3342048605,\n",
    "\t3482439494, 255933834, 3199172921, 1566662934, 1915776561, 3455106755, 2386645119, 1822596767,\n",
    "\t1654873139, 3419077235, 4083759764, 788922255, 2666184501, 2167983203, 3477469905, 1032432116,\n",
    "\t1633752385, 1350485812, 1848687110, 3200415319, 7454384, 982736226, 1546784578, 4201787503,\n",
    "\t1443665606, 4207999489, 3207869702, 3429016413, 2914663951, 1997774780, 3497348261, 2221406285,\n",
    "\t1832535945, 355325614, 146602876, 715620817, 1282153963, 1526906222, 4053942230, 1152944649,\n",
    "\t129209315, 1285881155, 1041128897, 2679850870, 2117044916, 4219181064, 1200155745, 3601709631,\n",
    "\t1979138821, 1070946431, 501928490, 3178052168, 3096053949, 1572874920, 2481067310, 4248998598,\n",
    "\t1170338211, 3965732025, 2327010051, 2550641556, 3317200660, 3525923398, 1124369512, 1484664715\n",
    "};"
   ]
  }
 ],
 "metadata": {
  "kernelspec": {
   "display_name": "SageMath 10.5",
   "language": "sage",
   "name": "sagemath-10.5"
  },
  "language_info": {
   "codemirror_mode": {
    "name": "ipython",
    "version": 3
   },
   "file_extension": ".py",
   "mimetype": "text/x-python",
   "name": "python",
   "nbconvert_exporter": "python",
   "pygments_lexer": "ipython3",
   "version": "3.12.5"
  }
 },
 "nbformat": 4,
 "nbformat_minor": 4
}
